{
 "cells": [
  {
   "cell_type": "code",
   "execution_count": 14,
   "metadata": {},
   "outputs": [],
   "source": [
    "import pandas as pd\n",
    "import os\n",
    "from collections import defaultdict\n",
    "import matplotlib.pyplot as plt\n",
    "import matplotlib.image as mpimg\n",
    "import torch\n",
    "import torch.nn as nn\n",
    "import torch.optim as optim\n",
    "from torchvision import datasets, transforms\n",
    "from torch.utils.data import Dataset, DataLoader\n",
    "from PIL import Image\n",
    "import cv2\n",
    "import numpy as np\n",
    "from tqdm import tqdm\n",
    "\n",
    "\n",
    "Image.MAX_IMAGE_PIXELS = None #Throws error if size of images exceeds this number"
   ]
  },
  {
   "cell_type": "code",
   "execution_count": 2,
   "metadata": {},
   "outputs": [],
   "source": [
    "class CustomDataset(Dataset):\n",
    "    def __init__(self, csv_file, root_dir, num_classes, transform=None):\n",
    "        \"\"\"\n",
    "        Args:\n",
    "            csv_file (string): Path to the csv file with annotations.\n",
    "            root_dir (string): Directory with all the images.\n",
    "            num_classes (int): Total number of classes.\n",
    "            transform (callable, optional): Optional transform to be applied on a sample.\n",
    "        \"\"\"\n",
    "        self.labels_frame = pd.read_csv(csv_file)\n",
    "        self.root_dir = root_dir\n",
    "        self.num_classes = num_classes\n",
    "        self.transform = transform\n",
    "\n",
    "    def __len__(self):\n",
    "        return len(self.labels_frame.index)\n",
    "\n",
    "    def __getitem__(self, idx):\n",
    "        img_name = os.path.join(self.root_dir, str(self.labels_frame.iloc[idx, 0])) + '.jpg'\n",
    "        image = cv2.imread(img_name)\n",
    "        \n",
    "        #image = Image.open(img_name)\n",
    "        label = self.labels_frame.iloc[idx, 1]\n",
    "\n",
    "        # Convert label to one-hot encoding\n",
    "        one_hot = label_dict[label]\n",
    "\n",
    "        if self.transform:\n",
    "            image = self.transform(image)\n",
    "\n",
    "        return image, one_hot"
   ]
  },
  {
   "cell_type": "code",
   "execution_count": 3,
   "metadata": {},
   "outputs": [],
   "source": [
    "#Creates dictionary mapping labels(string) to vector(one-hot encoding)\n",
    "all_labels = list(np.load('materials/UBC-OCEAN_CS640/all_labels.npy'))\n",
    "num_classes = len(all_labels)\n",
    "label_dict = defaultdict(lambda: torch.zeros(num_classes))\n",
    "for i, label in enumerate(all_labels):\n",
    "    label_dict[label][i] = 1"
   ]
  },
  {
   "cell_type": "code",
   "execution_count": 4,
   "metadata": {},
   "outputs": [
    {
     "name": "stdout",
     "output_type": "stream",
     "text": [
      "Number of training images: 430\n"
     ]
    },
    {
     "name": "stderr",
     "output_type": "stream",
     "text": [
      "c:\\Users\\TaiSh\\.conda\\envs\\conda311\\Lib\\site-packages\\torchvision\\transforms\\functional.py:1603: UserWarning: The default value of the antialias parameter of all the resizing transforms (Resize(), RandomResizedCrop(), etc.) will change from None to True in v0.17, in order to be consistent across the PIL and Tensor backends. To suppress this warning, directly pass antialias=True (recommended, future default), antialias=None (current default, which means False for Tensors and True for PIL), or antialias=False (only works on Tensors - PIL will still use antialiasing). This also applies if you are using the inference transforms from the models weights: update the call to weights.transforms(antialias=True).\n",
      "  warnings.warn(\n"
     ]
    },
    {
     "name": "stdout",
     "output_type": "stream",
     "text": [
      "Type of first pairing: <class 'tuple'>\n",
      "Items in tuple: 2\n",
      "Size of Image: torch.Size([3, 224, 224])\n",
      "First Image (Raw): tensor([[[0., 0., 0.,  ..., 0., 0., 0.],\n",
      "         [0., 0., 0.,  ..., 0., 0., 0.],\n",
      "         [0., 0., 0.,  ..., 0., 0., 0.],\n",
      "         ...,\n",
      "         [0., 0., 0.,  ..., 0., 0., 0.],\n",
      "         [0., 0., 0.,  ..., 0., 0., 0.],\n",
      "         [0., 0., 0.,  ..., 0., 0., 0.]],\n",
      "\n",
      "        [[0., 0., 0.,  ..., 0., 0., 0.],\n",
      "         [0., 0., 0.,  ..., 0., 0., 0.],\n",
      "         [0., 0., 0.,  ..., 0., 0., 0.],\n",
      "         ...,\n",
      "         [0., 0., 0.,  ..., 0., 0., 0.],\n",
      "         [0., 0., 0.,  ..., 0., 0., 0.],\n",
      "         [0., 0., 0.,  ..., 0., 0., 0.]],\n",
      "\n",
      "        [[0., 0., 0.,  ..., 0., 0., 0.],\n",
      "         [0., 0., 0.,  ..., 0., 0., 0.],\n",
      "         [0., 0., 0.,  ..., 0., 0., 0.],\n",
      "         ...,\n",
      "         [0., 0., 0.,  ..., 0., 0., 0.],\n",
      "         [0., 0., 0.,  ..., 0., 0., 0.],\n",
      "         [0., 0., 0.,  ..., 0., 0., 0.]]])\n",
      "One hot output of first image: tensor([0., 0., 0., 1., 0.])\n"
     ]
    }
   ],
   "source": [
    "# Define initial transform as resize\n",
    "transform = transforms.Compose([transforms.ToTensor(), transforms.Resize((224, 224))])\n",
    "# Create the dataset\n",
    "dataset = CustomDataset(csv_file='materials/UBC-OCEAN_CS640/train.csv', root_dir='materials/UBC-OCEAN_CS640/train_images_compressed_80/', num_classes=num_classes, transform=transform)\n",
    "\n",
    "# Create a DataLoader\n",
    "dataloader = DataLoader(dataset, batch_size=8, shuffle=True)\n",
    "\n",
    "#Size of the reshaped first image in the data set\n",
    "#(RGB * width * height)\n",
    "print(f'Number of training images: {dataset.__len__()}')\n",
    "print(f'Type of first pairing: {type(dataset.__getitem__(0))}')\n",
    "print(f'Items in tuple: {len(dataset.__getitem__(0))}')\n",
    "print(f'Size of Image: {dataset.__getitem__(0)[0].size()}')\n",
    "print(f'First Image (Raw): {dataset.__getitem__(0)[0]}')\n",
    "print(f'One hot output of first image: {dataset.__getitem__(0)[1]}')\n"
   ]
  },
  {
   "cell_type": "code",
   "execution_count": 5,
   "metadata": {},
   "outputs": [
    {
     "name": "stderr",
     "output_type": "stream",
     "text": [
      "100%|██████████| 54/54 [22:06<00:00, 24.56s/it]"
     ]
    },
    {
     "name": "stdout",
     "output_type": "stream",
     "text": [
      "Mean: tensor([0.4887, 0.4266, 0.4855])\n",
      "Std: tensor([0.4212, 0.3790, 0.4169])\n"
     ]
    },
    {
     "name": "stderr",
     "output_type": "stream",
     "text": [
      "\n"
     ]
    }
   ],
   "source": [
    "# Function to calculate mean and std\n",
    "def get_mean_and_std(dataloader):\n",
    "    channels_sum, channels_squared_sum, num_batches = 0, 0, 0\n",
    "\n",
    "    for data, _ in tqdm(dataloader):\n",
    "        channels_sum += torch.mean(data, dim=[0, 2, 3])\n",
    "        channels_squared_sum += torch.mean(data**2, dim=[0, 2, 3])\n",
    "        num_batches += 1\n",
    "\n",
    "    mean = channels_sum / num_batches\n",
    "    std = (channels_squared_sum / num_batches - mean**2)**0.5\n",
    "\n",
    "    return mean, std\n",
    "\n",
    "#Calculate mean and std of RGB values\n",
    "mean, std = get_mean_and_std(dataloader)\n",
    "mean, std = \n",
    "print(f\"Mean: {mean}\")\n",
    "print(f\"Std: {std}\")"
   ]
  },
  {
   "cell_type": "code",
   "execution_count": 9,
   "metadata": {},
   "outputs": [],
   "source": [
    "# Transform = resize images and normalize the RGB values\n",
    "transform = transforms.Compose([\n",
    "    transforms.ToTensor(),\n",
    "    transforms.Resize((224, 224)),\n",
    "\n",
    "    transforms.Normalize(mean=mean, std=std)\n",
    "])\n",
    "\n",
    "batch_size = 8\n",
    "\n",
    "# Create the dataset\n",
    "train_dataset = CustomDataset(csv_file='materials/UBC-OCEAN_CS640/train.csv', root_dir='materials/UBC-OCEAN_CS640/train_images_compressed_80/', num_classes=num_classes, transform=transform)\n",
    "test_dataset = CustomDataset(csv_file='materials/UBC-OCEAN_CS640/test.csv', root_dir='materials/UBC-OCEAN_CS640/test_images_compressed_80/', num_classes=num_classes, transform=transform)\n",
    "\n",
    "# Create a DataLoader\n",
    "train_dataloader = DataLoader(train_dataset, batch_size=batch_size, shuffle=True)\n",
    "test_dataloader = DataLoader(test_dataset, batch_size=batch_size, shuffle=True)\n",
    "\n",
    "# Now you can use this dataloader in your training loop"
   ]
  },
  {
   "cell_type": "code",
   "execution_count": 10,
   "metadata": {},
   "outputs": [
    {
     "name": "stdout",
     "output_type": "stream",
     "text": [
      "Numer of training examples: 430\n",
      "Numer of testing examples: 108\n"
     ]
    },
    {
     "name": "stderr",
     "output_type": "stream",
     "text": [
      "c:\\Users\\TaiSh\\.conda\\envs\\conda311\\Lib\\site-packages\\torchvision\\transforms\\functional.py:1603: UserWarning: The default value of the antialias parameter of all the resizing transforms (Resize(), RandomResizedCrop(), etc.) will change from None to True in v0.17, in order to be consistent across the PIL and Tensor backends. To suppress this warning, directly pass antialias=True (recommended, future default), antialias=None (current default, which means False for Tensors and True for PIL), or antialias=False (only works on Tensors - PIL will still use antialiasing). This also applies if you are using the inference transforms from the models weights: update the call to weights.transforms(antialias=True).\n",
      "  warnings.warn(\n"
     ]
    },
    {
     "name": "stdout",
     "output_type": "stream",
     "text": [
      "Type of pairing: <class 'tuple'>\n",
      "Number of inputs + outputs: 2\n",
      "Size of input: torch.Size([3, 224, 224])\n",
      "First input(normalized): tensor([[[-1.1601, -1.1601, -1.1601,  ..., -1.1601, -1.1601, -1.1601],\n",
      "         [-1.1601, -1.1601, -1.1601,  ..., -1.1601, -1.1601, -1.1601],\n",
      "         [-1.1601, -1.1601, -1.1601,  ..., -1.1601, -1.1601, -1.1601],\n",
      "         ...,\n",
      "         [-1.1601, -1.1601, -1.1601,  ..., -1.1601, -1.1601, -1.1601],\n",
      "         [-1.1601, -1.1601, -1.1601,  ..., -1.1601, -1.1601, -1.1601],\n",
      "         [-1.1601, -1.1601, -1.1601,  ..., -1.1601, -1.1601, -1.1601]],\n",
      "\n",
      "        [[-1.1258, -1.1258, -1.1258,  ..., -1.1258, -1.1258, -1.1258],\n",
      "         [-1.1258, -1.1258, -1.1258,  ..., -1.1258, -1.1258, -1.1258],\n",
      "         [-1.1258, -1.1258, -1.1258,  ..., -1.1258, -1.1258, -1.1258],\n",
      "         ...,\n",
      "         [-1.1258, -1.1258, -1.1258,  ..., -1.1258, -1.1258, -1.1258],\n",
      "         [-1.1258, -1.1258, -1.1258,  ..., -1.1258, -1.1258, -1.1258],\n",
      "         [-1.1258, -1.1258, -1.1258,  ..., -1.1258, -1.1258, -1.1258]],\n",
      "\n",
      "        [[-1.1647, -1.1647, -1.1647,  ..., -1.1647, -1.1647, -1.1647],\n",
      "         [-1.1647, -1.1647, -1.1647,  ..., -1.1647, -1.1647, -1.1647],\n",
      "         [-1.1647, -1.1647, -1.1647,  ..., -1.1647, -1.1647, -1.1647],\n",
      "         ...,\n",
      "         [-1.1647, -1.1647, -1.1647,  ..., -1.1647, -1.1647, -1.1647],\n",
      "         [-1.1647, -1.1647, -1.1647,  ..., -1.1647, -1.1647, -1.1647],\n",
      "         [-1.1647, -1.1647, -1.1647,  ..., -1.1647, -1.1647, -1.1647]]])\n",
      "First output(one-hot encoding): tensor([0., 0., 0., 1., 0.])\n"
     ]
    }
   ],
   "source": [
    "#Size of the reshaped first image in the data set\n",
    "#(RGB * width * height)\n",
    "print(f'Numer of training examples: {train_dataset.__len__()}')\n",
    "print(f'Numer of testing examples: {test_dataset.__len__()}')\n",
    "print(f'Type of pairing: {type(train_dataset.__getitem__(0))}')\n",
    "print(f'Number of inputs + outputs: {len(train_dataset.__getitem__(0))}')\n",
    "print(f'Size of input: {train_dataset.__getitem__(0)[0].size()}')\n",
    "print(f'First input(normalized): {train_dataset.__getitem__(0)[0]}')\n",
    "print(f'First output(one-hot encoding): {train_dataset.__getitem__(0)[1]}')"
   ]
  },
  {
   "cell_type": "code",
   "execution_count": 11,
   "metadata": {},
   "outputs": [
    {
     "name": "stdout",
     "output_type": "stream",
     "text": [
      "GPU is available\n"
     ]
    }
   ],
   "source": [
    "# torch.cuda.is_available() checks and returns a Boolean True if a GPU is available, else it'll return False\n",
    "is_cuda = torch.cuda.is_available()\n",
    "\n",
    "# If we have a GPU available, we'll set our device to GPU. We'll use this device variable later in our code.\n",
    "if is_cuda:\n",
    "    device = torch.device(\"cuda\")\n",
    "    print(\"GPU is available\")\n",
    "else:\n",
    "    device = torch.device(\"cpu\")\n",
    "    print(\"GPU not available, CPU used\")"
   ]
  },
  {
   "cell_type": "code",
   "execution_count": 12,
   "metadata": {},
   "outputs": [],
   "source": [
    "class CancerCNN_1(nn.Module):\n",
    "    def __init__(self):\n",
    "        super(CancerCNN_1, self).__init__()\n",
    "        self.conv1 = nn.Conv2d(3, 32, kernel_size=3, stride=1, padding=1)\n",
    "        self.conv2 = nn.Conv2d(32, 64, kernel_size=3, stride=1, padding=1)\n",
    "        self.conv3 = nn.Conv2d(64, 128, kernel_size=3, stride=1, padding=1)\n",
    "        # Adjust the size of the fully connected layer\n",
    "        self.fc1 = nn.Linear(128 * 28 * 28, 512)\n",
    "        self.fc2 = nn.Linear(512, 5) # Adjust according to the number of classes\n",
    "        self.pool = nn.MaxPool2d(2, 2)\n",
    "        self.relu = nn.ReLU()\n",
    "\n",
    "    def forward(self, x):\n",
    "        x = self.pool(self.relu(self.conv1(x)))\n",
    "        x = self.pool(self.relu(self.conv2(x)))\n",
    "        x = self.pool(self.relu(self.conv3(x)))\n",
    "        x = x.view(-1, 128 * 28 * 28) # Adjust this flattening based on the output size\n",
    "        x = self.relu(self.fc1(x))\n",
    "        x = self.fc2(x)\n",
    "        return x"
   ]
  },
  {
   "cell_type": "code",
   "execution_count": 13,
   "metadata": {},
   "outputs": [
    {
     "name": "stdout",
     "output_type": "stream",
     "text": [
      "CancerCNN_1(\n",
      "  (conv1): Conv2d(3, 32, kernel_size=(3, 3), stride=(1, 1), padding=(1, 1))\n",
      "  (conv2): Conv2d(32, 64, kernel_size=(3, 3), stride=(1, 1), padding=(1, 1))\n",
      "  (conv3): Conv2d(64, 128, kernel_size=(3, 3), stride=(1, 1), padding=(1, 1))\n",
      "  (fc1): Linear(in_features=100352, out_features=512, bias=True)\n",
      "  (fc2): Linear(in_features=512, out_features=5, bias=True)\n",
      "  (pool): MaxPool2d(kernel_size=2, stride=2, padding=0, dilation=1, ceil_mode=False)\n",
      "  (relu): ReLU()\n",
      ")\n"
     ]
    }
   ],
   "source": [
    "# Step 4: Initialize the CNN Model\n",
    "model_1 = CancerCNN_1().float()\n",
    "print(model_1)\n",
    "\n",
    "model_1 = model_1.to(device)\n",
    "\n",
    "# Step 5: Define Loss Function and Optimizer\n",
    "criterion = nn.BCEWithLogitsLoss()\n",
    "optimizer = optim.Adam(model_1.parameters(), lr=0.0001)"
   ]
  },
  {
   "cell_type": "code",
   "execution_count": 21,
   "metadata": {},
   "outputs": [
    {
     "name": "stderr",
     "output_type": "stream",
     "text": [
      "  0%|          | 0/10 [00:00<?, ?it/s]\n",
      "  0%|          | 0/14 [00:00<?, ?it/s]\u001b[A/projectnb/cs640grp/students/sglee21/.conda/envs/conda311/lib/python3.11/site-packages/PIL/Image.py:3182: DecompressionBombWarning: Image size (380720000 pixels) exceeds limit of 357913940 pixels, could be decompression bomb DOS attack.\n",
      "  warnings.warn(\n",
      "/projectnb/cs640grp/students/sglee21/.conda/envs/conda311/lib/python3.11/site-packages/PIL/Image.py:3182: DecompressionBombWarning: Image size (367380000 pixels) exceeds limit of 357913940 pixels, could be decompression bomb DOS attack.\n",
      "  warnings.warn(\n",
      "/projectnb/cs640grp/students/sglee21/.conda/envs/conda311/lib/python3.11/site-packages/PIL/Image.py:3182: DecompressionBombWarning: Image size (383220000 pixels) exceeds limit of 357913940 pixels, could be decompression bomb DOS attack.\n",
      "  warnings.warn(\n",
      "/projectnb/cs640grp/students/sglee21/.conda/envs/conda311/lib/python3.11/site-packages/PIL/Image.py:3182: DecompressionBombWarning: Image size (379680000 pixels) exceeds limit of 357913940 pixels, could be decompression bomb DOS attack.\n",
      "  warnings.warn(\n",
      "/projectnb/cs640grp/students/sglee21/.conda/envs/conda311/lib/python3.11/site-packages/PIL/Image.py:3182: DecompressionBombWarning: Image size (395180000 pixels) exceeds limit of 357913940 pixels, could be decompression bomb DOS attack.\n",
      "  warnings.warn(\n",
      "\n",
      "  7%|▋         | 1/14 [01:14<16:11, 74.74s/it]\u001b[A/projectnb/cs640grp/students/sglee21/.conda/envs/conda311/lib/python3.11/site-packages/PIL/Image.py:3182: DecompressionBombWarning: Image size (400000000 pixels) exceeds limit of 357913940 pixels, could be decompression bomb DOS attack.\n",
      "  warnings.warn(\n",
      "/projectnb/cs640grp/students/sglee21/.conda/envs/conda311/lib/python3.11/site-packages/PIL/Image.py:3182: DecompressionBombWarning: Image size (380880000 pixels) exceeds limit of 357913940 pixels, could be decompression bomb DOS attack.\n",
      "  warnings.warn(\n",
      "\n",
      " 14%|█▍        | 2/14 [02:30<15:02, 75.20s/it]\u001b[A/projectnb/cs640grp/students/sglee21/.conda/envs/conda311/lib/python3.11/site-packages/PIL/Image.py:3182: DecompressionBombWarning: Image size (375080000 pixels) exceeds limit of 357913940 pixels, could be decompression bomb DOS attack.\n",
      "  warnings.warn(\n",
      "/projectnb/cs640grp/students/sglee21/.conda/envs/conda311/lib/python3.11/site-packages/PIL/Image.py:3182: DecompressionBombWarning: Image size (359680000 pixels) exceeds limit of 357913940 pixels, could be decompression bomb DOS attack.\n",
      "  warnings.warn(\n",
      "/projectnb/cs640grp/students/sglee21/.conda/envs/conda311/lib/python3.11/site-packages/PIL/Image.py:3182: DecompressionBombWarning: Image size (377880000 pixels) exceeds limit of 357913940 pixels, could be decompression bomb DOS attack.\n",
      "  warnings.warn(\n",
      "\n",
      " 21%|██▏       | 3/14 [03:42<13:29, 73.63s/it]\u001b[A/projectnb/cs640grp/students/sglee21/.conda/envs/conda311/lib/python3.11/site-packages/PIL/Image.py:3182: DecompressionBombWarning: Image size (375540000 pixels) exceeds limit of 357913940 pixels, could be decompression bomb DOS attack.\n",
      "  warnings.warn(\n",
      "/projectnb/cs640grp/students/sglee21/.conda/envs/conda311/lib/python3.11/site-packages/PIL/Image.py:3182: DecompressionBombWarning: Image size (365860000 pixels) exceeds limit of 357913940 pixels, could be decompression bomb DOS attack.\n",
      "  warnings.warn(\n",
      "/projectnb/cs640grp/students/sglee21/.conda/envs/conda311/lib/python3.11/site-packages/PIL/Image.py:3182: DecompressionBombWarning: Image size (360980000 pixels) exceeds limit of 357913940 pixels, could be decompression bomb DOS attack.\n",
      "  warnings.warn(\n",
      "\n",
      " 29%|██▊       | 4/14 [05:01<12:40, 76.08s/it]\u001b[A/projectnb/cs640grp/students/sglee21/.conda/envs/conda311/lib/python3.11/site-packages/PIL/Image.py:3182: DecompressionBombWarning: Image size (392940000 pixels) exceeds limit of 357913940 pixels, could be decompression bomb DOS attack.\n",
      "  warnings.warn(\n",
      "/projectnb/cs640grp/students/sglee21/.conda/envs/conda311/lib/python3.11/site-packages/PIL/Image.py:3182: DecompressionBombWarning: Image size (384220000 pixels) exceeds limit of 357913940 pixels, could be decompression bomb DOS attack.\n",
      "  warnings.warn(\n",
      "/projectnb/cs640grp/students/sglee21/.conda/envs/conda311/lib/python3.11/site-packages/PIL/Image.py:3182: DecompressionBombWarning: Image size (379720000 pixels) exceeds limit of 357913940 pixels, could be decompression bomb DOS attack.\n",
      "  warnings.warn(\n",
      "\n",
      " 36%|███▌      | 5/14 [06:22<11:40, 77.85s/it]\u001b[A/projectnb/cs640grp/students/sglee21/.conda/envs/conda311/lib/python3.11/site-packages/PIL/Image.py:3182: DecompressionBombWarning: Image size (396740000 pixels) exceeds limit of 357913940 pixels, could be decompression bomb DOS attack.\n",
      "  warnings.warn(\n",
      "/projectnb/cs640grp/students/sglee21/.conda/envs/conda311/lib/python3.11/site-packages/PIL/Image.py:3182: DecompressionBombWarning: Image size (375200000 pixels) exceeds limit of 357913940 pixels, could be decompression bomb DOS attack.\n",
      "  warnings.warn(\n",
      "\n",
      " 43%|████▎     | 6/14 [07:41<10:26, 78.27s/it]\u001b[A/projectnb/cs640grp/students/sglee21/.conda/envs/conda311/lib/python3.11/site-packages/PIL/Image.py:3182: DecompressionBombWarning: Image size (381200000 pixels) exceeds limit of 357913940 pixels, could be decompression bomb DOS attack.\n",
      "  warnings.warn(\n",
      "/projectnb/cs640grp/students/sglee21/.conda/envs/conda311/lib/python3.11/site-packages/PIL/Image.py:3182: DecompressionBombWarning: Image size (377640000 pixels) exceeds limit of 357913940 pixels, could be decompression bomb DOS attack.\n",
      "  warnings.warn(\n",
      "\n",
      " 50%|█████     | 7/14 [08:56<08:59, 77.10s/it]\u001b[A/projectnb/cs640grp/students/sglee21/.conda/envs/conda311/lib/python3.11/site-packages/PIL/Image.py:3182: DecompressionBombWarning: Image size (368900000 pixels) exceeds limit of 357913940 pixels, could be decompression bomb DOS attack.\n",
      "  warnings.warn(\n",
      "/projectnb/cs640grp/students/sglee21/.conda/envs/conda311/lib/python3.11/site-packages/PIL/Image.py:3182: DecompressionBombWarning: Image size (369280000 pixels) exceeds limit of 357913940 pixels, could be decompression bomb DOS attack.\n",
      "  warnings.warn(\n",
      "/projectnb/cs640grp/students/sglee21/.conda/envs/conda311/lib/python3.11/site-packages/PIL/Image.py:3182: DecompressionBombWarning: Image size (369000000 pixels) exceeds limit of 357913940 pixels, could be decompression bomb DOS attack.\n",
      "  warnings.warn(\n",
      "/projectnb/cs640grp/students/sglee21/.conda/envs/conda311/lib/python3.11/site-packages/PIL/Image.py:3182: DecompressionBombWarning: Image size (359560000 pixels) exceeds limit of 357913940 pixels, could be decompression bomb DOS attack.\n",
      "  warnings.warn(\n",
      "\n",
      " 57%|█████▋    | 8/14 [10:17<07:49, 78.27s/it]\u001b[A/projectnb/cs640grp/students/sglee21/.conda/envs/conda311/lib/python3.11/site-packages/PIL/Image.py:3182: DecompressionBombWarning: Image size (390620000 pixels) exceeds limit of 357913940 pixels, could be decompression bomb DOS attack.\n",
      "  warnings.warn(\n",
      "/projectnb/cs640grp/students/sglee21/.conda/envs/conda311/lib/python3.11/site-packages/PIL/Image.py:3182: DecompressionBombWarning: Image size (394760000 pixels) exceeds limit of 357913940 pixels, could be decompression bomb DOS attack.\n",
      "  warnings.warn(\n",
      "/projectnb/cs640grp/students/sglee21/.conda/envs/conda311/lib/python3.11/site-packages/PIL/Image.py:3182: DecompressionBombWarning: Image size (399880000 pixels) exceeds limit of 357913940 pixels, could be decompression bomb DOS attack.\n",
      "  warnings.warn(\n",
      "/projectnb/cs640grp/students/sglee21/.conda/envs/conda311/lib/python3.11/site-packages/PIL/Image.py:3182: DecompressionBombWarning: Image size (380960000 pixels) exceeds limit of 357913940 pixels, could be decompression bomb DOS attack.\n",
      "  warnings.warn(\n",
      "/projectnb/cs640grp/students/sglee21/.conda/envs/conda311/lib/python3.11/site-packages/PIL/Image.py:3182: DecompressionBombWarning: Image size (367960000 pixels) exceeds limit of 357913940 pixels, could be decompression bomb DOS attack.\n",
      "  warnings.warn(\n",
      "/projectnb/cs640grp/students/sglee21/.conda/envs/conda311/lib/python3.11/site-packages/PIL/Image.py:3182: DecompressionBombWarning: Image size (368640000 pixels) exceeds limit of 357913940 pixels, could be decompression bomb DOS attack.\n",
      "  warnings.warn(\n",
      "\n",
      " 64%|██████▍   | 9/14 [11:45<06:47, 81.47s/it]\u001b[A/projectnb/cs640grp/students/sglee21/.conda/envs/conda311/lib/python3.11/site-packages/PIL/Image.py:3182: DecompressionBombWarning: Image size (387120000 pixels) exceeds limit of 357913940 pixels, could be decompression bomb DOS attack.\n",
      "  warnings.warn(\n",
      "/projectnb/cs640grp/students/sglee21/.conda/envs/conda311/lib/python3.11/site-packages/PIL/Image.py:3182: DecompressionBombWarning: Image size (394720000 pixels) exceeds limit of 357913940 pixels, could be decompression bomb DOS attack.\n",
      "  warnings.warn(\n",
      "/projectnb/cs640grp/students/sglee21/.conda/envs/conda311/lib/python3.11/site-packages/PIL/Image.py:3182: DecompressionBombWarning: Image size (374940000 pixels) exceeds limit of 357913940 pixels, could be decompression bomb DOS attack.\n",
      "  warnings.warn(\n",
      "/projectnb/cs640grp/students/sglee21/.conda/envs/conda311/lib/python3.11/site-packages/PIL/Image.py:3182: DecompressionBombWarning: Image size (386320000 pixels) exceeds limit of 357913940 pixels, could be decompression bomb DOS attack.\n",
      "  warnings.warn(\n",
      "/projectnb/cs640grp/students/sglee21/.conda/envs/conda311/lib/python3.11/site-packages/PIL/Image.py:3182: DecompressionBombWarning: Image size (363900000 pixels) exceeds limit of 357913940 pixels, could be decompression bomb DOS attack.\n",
      "  warnings.warn(\n",
      "\n",
      " 71%|███████▏  | 10/14 [13:00<05:17, 79.41s/it]\u001b[A/projectnb/cs640grp/students/sglee21/.conda/envs/conda311/lib/python3.11/site-packages/PIL/Image.py:3182: DecompressionBombWarning: Image size (381860000 pixels) exceeds limit of 357913940 pixels, could be decompression bomb DOS attack.\n",
      "  warnings.warn(\n",
      "/projectnb/cs640grp/students/sglee21/.conda/envs/conda311/lib/python3.11/site-packages/PIL/Image.py:3182: DecompressionBombWarning: Image size (381660000 pixels) exceeds limit of 357913940 pixels, could be decompression bomb DOS attack.\n",
      "  warnings.warn(\n",
      "/projectnb/cs640grp/students/sglee21/.conda/envs/conda311/lib/python3.11/site-packages/PIL/Image.py:3182: DecompressionBombWarning: Image size (386280000 pixels) exceeds limit of 357913940 pixels, could be decompression bomb DOS attack.\n",
      "  warnings.warn(\n",
      "/projectnb/cs640grp/students/sglee21/.conda/envs/conda311/lib/python3.11/site-packages/PIL/Image.py:3182: DecompressionBombWarning: Image size (391800000 pixels) exceeds limit of 357913940 pixels, could be decompression bomb DOS attack.\n",
      "  warnings.warn(\n",
      "/projectnb/cs640grp/students/sglee21/.conda/envs/conda311/lib/python3.11/site-packages/PIL/Image.py:3182: DecompressionBombWarning: Image size (375340000 pixels) exceeds limit of 357913940 pixels, could be decompression bomb DOS attack.\n",
      "  warnings.warn(\n",
      "\n",
      " 79%|███████▊  | 11/14 [14:18<03:57, 79.02s/it]\u001b[A/projectnb/cs640grp/students/sglee21/.conda/envs/conda311/lib/python3.11/site-packages/PIL/Image.py:3182: DecompressionBombWarning: Image size (359380000 pixels) exceeds limit of 357913940 pixels, could be decompression bomb DOS attack.\n",
      "  warnings.warn(\n",
      "/projectnb/cs640grp/students/sglee21/.conda/envs/conda311/lib/python3.11/site-packages/PIL/Image.py:3182: DecompressionBombWarning: Image size (394480000 pixels) exceeds limit of 357913940 pixels, could be decompression bomb DOS attack.\n",
      "  warnings.warn(\n",
      "/projectnb/cs640grp/students/sglee21/.conda/envs/conda311/lib/python3.11/site-packages/PIL/Image.py:3182: DecompressionBombWarning: Image size (370360000 pixels) exceeds limit of 357913940 pixels, could be decompression bomb DOS attack.\n",
      "  warnings.warn(\n",
      "/projectnb/cs640grp/students/sglee21/.conda/envs/conda311/lib/python3.11/site-packages/PIL/Image.py:3182: DecompressionBombWarning: Image size (378420000 pixels) exceeds limit of 357913940 pixels, could be decompression bomb DOS attack.\n",
      "  warnings.warn(\n",
      "\n",
      " 86%|████████▌ | 12/14 [15:40<02:39, 79.91s/it]\u001b[A/projectnb/cs640grp/students/sglee21/.conda/envs/conda311/lib/python3.11/site-packages/PIL/Image.py:3182: DecompressionBombWarning: Image size (361500000 pixels) exceeds limit of 357913940 pixels, could be decompression bomb DOS attack.\n",
      "  warnings.warn(\n",
      "/projectnb/cs640grp/students/sglee21/.conda/envs/conda311/lib/python3.11/site-packages/PIL/Image.py:3182: DecompressionBombWarning: Image size (360780000 pixels) exceeds limit of 357913940 pixels, could be decompression bomb DOS attack.\n",
      "  warnings.warn(\n",
      "/projectnb/cs640grp/students/sglee21/.conda/envs/conda311/lib/python3.11/site-packages/PIL/Image.py:3182: DecompressionBombWarning: Image size (396180000 pixels) exceeds limit of 357913940 pixels, could be decompression bomb DOS attack.\n",
      "  warnings.warn(\n",
      "\n",
      " 93%|█████████▎| 13/14 [17:00<01:19, 79.92s/it]\u001b[A/projectnb/cs640grp/students/sglee21/.conda/envs/conda311/lib/python3.11/site-packages/PIL/Image.py:3182: DecompressionBombWarning: Image size (396620000 pixels) exceeds limit of 357913940 pixels, could be decompression bomb DOS attack.\n",
      "  warnings.warn(\n",
      "/projectnb/cs640grp/students/sglee21/.conda/envs/conda311/lib/python3.11/site-packages/PIL/Image.py:3182: DecompressionBombWarning: Image size (387500000 pixels) exceeds limit of 357913940 pixels, could be decompression bomb DOS attack.\n",
      "  warnings.warn(\n",
      "\n",
      "100%|██████████| 14/14 [17:34<00:00, 75.31s/it]\u001b[A\n",
      " 10%|█         | 1/10 [17:34<2:38:09, 1054.38s/it]"
     ]
    },
    {
     "name": "stdout",
     "output_type": "stream",
     "text": [
      "Epoch 1, Loss: 0.4690956175327301\n"
     ]
    },
    {
     "name": "stderr",
     "output_type": "stream",
     "text": [
      "\n",
      "  0%|          | 0/14 [00:00<?, ?it/s]\u001b[A\n",
      "  7%|▋         | 1/14 [01:18<17:05, 78.90s/it]\u001b[A\n",
      " 14%|█▍        | 2/14 [02:36<15:35, 77.99s/it]\u001b[A\n",
      " 21%|██▏       | 3/14 [03:57<14:34, 79.54s/it]\u001b[A\n",
      " 29%|██▊       | 4/14 [05:14<13:06, 78.68s/it]\u001b[A\n",
      " 36%|███▌      | 5/14 [06:35<11:54, 79.43s/it]\u001b[A\n",
      " 43%|████▎     | 6/14 [07:52<10:28, 78.58s/it]\u001b[A\n",
      " 50%|█████     | 7/14 [09:08<09:04, 77.79s/it]\u001b[A\n",
      " 57%|█████▋    | 8/14 [10:27<07:48, 78.12s/it]\u001b[A\n",
      " 64%|██████▍   | 9/14 [11:38<06:18, 75.79s/it]\u001b[A\n",
      " 71%|███████▏  | 10/14 [12:54<05:03, 75.95s/it]\u001b[A\n",
      " 79%|███████▊  | 11/14 [14:18<03:54, 78.25s/it]\u001b[A\n",
      " 86%|████████▌ | 12/14 [15:29<02:32, 76.21s/it]\u001b[A\n",
      " 93%|█████████▎| 13/14 [16:54<01:18, 78.87s/it]\u001b[A\n",
      "100%|██████████| 14/14 [17:32<00:00, 75.19s/it]\u001b[A\n",
      " 20%|██        | 2/10 [35:07<2:20:26, 1053.35s/it]"
     ]
    },
    {
     "name": "stdout",
     "output_type": "stream",
     "text": [
      "Epoch 2, Loss: 0.45967379212379456\n"
     ]
    },
    {
     "name": "stderr",
     "output_type": "stream",
     "text": [
      "\n",
      "  0%|          | 0/14 [00:00<?, ?it/s]\u001b[A\n",
      "  7%|▋         | 1/14 [01:11<15:34, 71.90s/it]\u001b[A\n",
      " 14%|█▍        | 2/14 [02:28<14:57, 74.76s/it]\u001b[A\n",
      " 21%|██▏       | 3/14 [03:40<13:27, 73.38s/it]\u001b[A\n",
      " 29%|██▊       | 4/14 [05:08<13:10, 79.04s/it]\u001b[A\n",
      " 36%|███▌      | 5/14 [06:30<12:00, 80.09s/it]\u001b[A\n",
      " 43%|████▎     | 6/14 [07:44<10:24, 78.12s/it]\u001b[A\n",
      " 50%|█████     | 7/14 [09:04<09:12, 78.91s/it]\u001b[A\n",
      " 57%|█████▋    | 8/14 [10:19<07:45, 77.58s/it]\u001b[A\n",
      " 64%|██████▍   | 9/14 [11:37<06:28, 77.77s/it]\u001b[A\n",
      " 71%|███████▏  | 10/14 [13:01<05:18, 79.65s/it]\u001b[A\n",
      " 79%|███████▊  | 11/14 [14:27<04:05, 81.68s/it]\u001b[A\n",
      " 86%|████████▌ | 12/14 [15:39<02:37, 78.72s/it]\u001b[A\n",
      " 93%|█████████▎| 13/14 [17:00<01:19, 79.17s/it]\u001b[A\n",
      "100%|██████████| 14/14 [17:32<00:00, 75.20s/it]\u001b[A\n",
      " 30%|███       | 3/10 [52:39<2:02:51, 1053.09s/it]"
     ]
    },
    {
     "name": "stdout",
     "output_type": "stream",
     "text": [
      "Epoch 3, Loss: 0.5050300359725952\n"
     ]
    },
    {
     "name": "stderr",
     "output_type": "stream",
     "text": [
      "\n",
      "  0%|          | 0/14 [00:00<?, ?it/s]\u001b[A\n",
      "  7%|▋         | 1/14 [01:17<16:45, 77.31s/it]\u001b[A\n",
      " 14%|█▍        | 2/14 [02:31<15:08, 75.70s/it]\u001b[A\n",
      " 21%|██▏       | 3/14 [03:52<14:16, 77.84s/it]\u001b[A\n",
      " 29%|██▊       | 4/14 [05:13<13:11, 79.14s/it]\u001b[A\n",
      " 36%|███▌      | 5/14 [06:33<11:56, 79.63s/it]\u001b[A\n",
      " 43%|████▎     | 6/14 [07:47<10:19, 77.41s/it]\u001b[A\n",
      " 50%|█████     | 7/14 [09:03<08:59, 77.14s/it]\u001b[A\n",
      " 57%|█████▋    | 8/14 [10:27<07:55, 79.33s/it]\u001b[A\n",
      " 64%|██████▍   | 9/14 [11:43<06:31, 78.24s/it]\u001b[A\n",
      " 71%|███████▏  | 10/14 [13:00<05:11, 77.81s/it]\u001b[A\n",
      " 79%|███████▊  | 11/14 [14:14<03:50, 76.68s/it]\u001b[A\n",
      " 86%|████████▌ | 12/14 [15:31<02:33, 76.86s/it]\u001b[A\n",
      " 93%|█████████▎| 13/14 [16:52<01:18, 78.02s/it]\u001b[A\n",
      "100%|██████████| 14/14 [17:31<00:00, 75.12s/it]\u001b[A\n",
      " 40%|████      | 4/10 [1:10:11<1:45:15, 1052.55s/it]"
     ]
    },
    {
     "name": "stdout",
     "output_type": "stream",
     "text": [
      "Epoch 4, Loss: 0.3707001805305481\n"
     ]
    },
    {
     "name": "stderr",
     "output_type": "stream",
     "text": [
      "\n",
      "  0%|          | 0/14 [00:00<?, ?it/s]\u001b[A\n",
      "  7%|▋         | 1/14 [01:24<18:14, 84.16s/it]\u001b[A\n",
      " 14%|█▍        | 2/14 [02:42<16:08, 80.69s/it]\u001b[A\n",
      " 21%|██▏       | 3/14 [04:04<14:53, 81.23s/it]\u001b[A\n",
      " 29%|██▊       | 4/14 [05:21<13:15, 79.50s/it]\u001b[A\n",
      " 36%|███▌      | 5/14 [06:42<11:59, 80.00s/it]\u001b[A\n",
      " 43%|████▎     | 6/14 [07:55<10:21, 77.71s/it]\u001b[A\n",
      " 50%|█████     | 7/14 [09:17<09:14, 79.18s/it]\u001b[A\n",
      " 57%|█████▋    | 8/14 [10:28<07:40, 76.68s/it]\u001b[A\n",
      " 64%|██████▍   | 9/14 [11:48<06:28, 77.69s/it]\u001b[A\n",
      " 71%|███████▏  | 10/14 [13:10<05:15, 78.90s/it]\u001b[A\n",
      " 79%|███████▊  | 11/14 [14:25<03:53, 77.79s/it]\u001b[A\n",
      " 86%|████████▌ | 12/14 [15:37<02:31, 75.99s/it]\u001b[A\n",
      " 93%|█████████▎| 13/14 [16:58<01:17, 77.43s/it]\u001b[A\n",
      "100%|██████████| 14/14 [17:31<00:00, 75.13s/it]\u001b[A\n",
      " 50%|█████     | 5/10 [1:27:43<1:27:41, 1052.28s/it]"
     ]
    },
    {
     "name": "stdout",
     "output_type": "stream",
     "text": [
      "Epoch 5, Loss: 0.409364253282547\n"
     ]
    },
    {
     "name": "stderr",
     "output_type": "stream",
     "text": [
      "\n",
      "  0%|          | 0/14 [00:00<?, ?it/s]\u001b[A\n",
      "  7%|▋         | 1/14 [01:19<17:07, 79.07s/it]\u001b[A\n",
      " 14%|█▍        | 2/14 [02:35<15:28, 77.35s/it]\u001b[A\n",
      " 21%|██▏       | 3/14 [03:49<13:53, 75.77s/it]\u001b[A\n",
      " 29%|██▊       | 4/14 [05:13<13:12, 79.29s/it]\u001b[A\n",
      " 36%|███▌      | 5/14 [06:30<11:46, 78.53s/it]\u001b[A\n",
      " 43%|████▎     | 6/14 [07:50<10:31, 78.97s/it]\u001b[A\n",
      " 50%|█████     | 7/14 [09:11<09:15, 79.42s/it]\u001b[A\n",
      " 57%|█████▋    | 8/14 [10:34<08:04, 80.79s/it]\u001b[A\n",
      " 64%|██████▍   | 9/14 [11:57<06:46, 81.37s/it]\u001b[A\n",
      " 71%|███████▏  | 10/14 [13:10<05:14, 78.72s/it]\u001b[A\n",
      " 79%|███████▊  | 11/14 [14:27<03:54, 78.18s/it]\u001b[A\n",
      " 86%|████████▌ | 12/14 [15:40<02:33, 76.78s/it]\u001b[A\n",
      " 93%|█████████▎| 13/14 [17:01<01:17, 77.99s/it]\u001b[A\n",
      "100%|██████████| 14/14 [17:33<00:00, 75.24s/it]\u001b[A\n",
      " 60%|██████    | 6/10 [1:45:16<1:10:10, 1052.64s/it]"
     ]
    },
    {
     "name": "stdout",
     "output_type": "stream",
     "text": [
      "Epoch 6, Loss: 0.269835889339447\n"
     ]
    },
    {
     "name": "stderr",
     "output_type": "stream",
     "text": [
      "\n",
      "  0%|          | 0/14 [00:00<?, ?it/s]\u001b[A\n",
      "  7%|▋         | 1/14 [01:20<17:25, 80.38s/it]\u001b[A\n",
      " 14%|█▍        | 2/14 [02:41<16:08, 80.68s/it]\u001b[A\n",
      " 21%|██▏       | 3/14 [04:05<15:05, 82.35s/it]\u001b[A\n",
      " 29%|██▊       | 4/14 [05:22<13:23, 80.32s/it]\u001b[A\n",
      " 36%|███▌      | 5/14 [06:36<11:41, 77.96s/it]\u001b[A\n",
      " 43%|████▎     | 6/14 [07:52<10:17, 77.19s/it]\u001b[A\n",
      " 50%|█████     | 7/14 [09:11<09:05, 77.91s/it]\u001b[A\n",
      " 57%|█████▋    | 8/14 [10:26<07:41, 76.91s/it]\u001b[A\n",
      " 64%|██████▍   | 9/14 [11:50<06:35, 79.09s/it]\u001b[A\n",
      " 71%|███████▏  | 10/14 [13:08<05:14, 78.71s/it]\u001b[A\n",
      " 79%|███████▊  | 11/14 [14:27<03:56, 78.78s/it]\u001b[A\n",
      " 86%|████████▌ | 12/14 [15:37<02:32, 76.13s/it]\u001b[A\n",
      " 93%|█████████▎| 13/14 [16:58<01:17, 77.76s/it]\u001b[A\n",
      "100%|██████████| 14/14 [17:31<00:00, 75.13s/it]\u001b[A\n",
      " 70%|███████   | 7/10 [2:02:48<52:37, 1052.37s/it]  "
     ]
    },
    {
     "name": "stdout",
     "output_type": "stream",
     "text": [
      "Epoch 7, Loss: 0.2883692681789398\n"
     ]
    },
    {
     "name": "stderr",
     "output_type": "stream",
     "text": [
      "\n",
      "  0%|          | 0/14 [00:00<?, ?it/s]\u001b[A\n",
      "  7%|▋         | 1/14 [01:14<16:07, 74.44s/it]\u001b[A\n",
      " 14%|█▍        | 2/14 [02:40<16:12, 81.05s/it]\u001b[A\n",
      " 21%|██▏       | 3/14 [03:54<14:16, 77.83s/it]\u001b[A\n",
      " 29%|██▊       | 4/14 [05:08<12:46, 76.61s/it]\u001b[A\n",
      " 36%|███▌      | 5/14 [06:21<11:15, 75.06s/it]\u001b[A\n",
      " 43%|████▎     | 6/14 [07:51<10:41, 80.19s/it]\u001b[A\n",
      " 50%|█████     | 7/14 [09:08<09:15, 79.30s/it]\u001b[A\n",
      " 57%|█████▋    | 8/14 [10:30<07:59, 79.96s/it]\u001b[A\n",
      " 64%|██████▍   | 9/14 [11:50<06:41, 80.23s/it]\u001b[A\n",
      " 71%|███████▏  | 10/14 [13:06<05:15, 78.80s/it]\u001b[A\n",
      " 79%|███████▊  | 11/14 [14:19<03:50, 76.98s/it]\u001b[A\n",
      " 86%|████████▌ | 12/14 [15:35<02:33, 76.80s/it]\u001b[A\n",
      " 93%|█████████▎| 13/14 [16:52<01:16, 76.90s/it]\u001b[A\n",
      "100%|██████████| 14/14 [17:32<00:00, 75.18s/it]\u001b[A\n",
      " 80%|████████  | 8/10 [2:20:21<35:04, 1052.43s/it]"
     ]
    },
    {
     "name": "stdout",
     "output_type": "stream",
     "text": [
      "Epoch 8, Loss: 0.10217292606830597\n"
     ]
    },
    {
     "name": "stderr",
     "output_type": "stream",
     "text": [
      "\n",
      "  0%|          | 0/14 [00:00<?, ?it/s]\u001b[A\n",
      "  7%|▋         | 1/14 [01:24<18:21, 84.75s/it]\u001b[A\n",
      " 14%|█▍        | 2/14 [02:39<15:48, 79.06s/it]\u001b[A\n",
      " 21%|██▏       | 3/14 [03:55<14:12, 77.49s/it]\u001b[A\n",
      " 29%|██▊       | 4/14 [05:12<12:53, 77.37s/it]\u001b[A\n",
      " 36%|███▌      | 5/14 [06:30<11:38, 77.65s/it]\u001b[A\n",
      " 43%|████▎     | 6/14 [07:44<10:11, 76.45s/it]\u001b[A\n",
      " 50%|█████     | 7/14 [09:04<09:01, 77.42s/it]\u001b[A\n",
      " 57%|█████▋    | 8/14 [10:22<07:45, 77.53s/it]\u001b[A\n",
      " 64%|██████▍   | 9/14 [11:37<06:24, 76.81s/it]\u001b[A\n",
      " 71%|███████▏  | 10/14 [12:58<05:12, 78.11s/it]\u001b[A\n",
      " 79%|███████▊  | 11/14 [14:18<03:56, 78.84s/it]\u001b[A\n",
      " 86%|████████▌ | 12/14 [15:37<02:37, 78.76s/it]\u001b[A\n",
      " 93%|█████████▎| 13/14 [16:55<01:18, 78.47s/it]\u001b[A\n",
      "100%|██████████| 14/14 [17:32<00:00, 75.17s/it]\u001b[A\n",
      " 90%|█████████ | 9/10 [2:37:53<17:32, 1052.41s/it]"
     ]
    },
    {
     "name": "stdout",
     "output_type": "stream",
     "text": [
      "Epoch 9, Loss: 0.1274905651807785\n"
     ]
    },
    {
     "name": "stderr",
     "output_type": "stream",
     "text": [
      "\n",
      "  0%|          | 0/14 [00:00<?, ?it/s]\u001b[A\n",
      "  7%|▋         | 1/14 [01:22<17:48, 82.21s/it]\u001b[A\n",
      " 14%|█▍        | 2/14 [02:39<15:50, 79.20s/it]\u001b[A\n",
      " 21%|██▏       | 3/14 [04:01<14:48, 80.74s/it]\u001b[A\n",
      " 29%|██▊       | 4/14 [05:13<12:52, 77.24s/it]\u001b[A\n",
      " 36%|███▌      | 5/14 [06:28<11:27, 76.42s/it]\u001b[A\n",
      " 43%|████▎     | 6/14 [07:49<10:22, 77.82s/it]\u001b[A\n",
      " 50%|█████     | 7/14 [09:09<09:09, 78.56s/it]\u001b[A\n",
      " 57%|█████▋    | 8/14 [10:27<07:50, 78.42s/it]\u001b[A\n",
      " 64%|██████▍   | 9/14 [11:49<06:38, 79.67s/it]\u001b[A\n",
      " 71%|███████▏  | 10/14 [13:06<05:14, 78.70s/it]\u001b[A\n",
      " 79%|███████▊  | 11/14 [14:25<03:56, 78.68s/it]\u001b[A\n",
      " 86%|████████▌ | 12/14 [15:36<02:32, 76.45s/it]\u001b[A\n",
      " 93%|█████████▎| 13/14 [16:57<01:17, 77.75s/it]\u001b[A\n",
      "100%|██████████| 14/14 [17:31<00:00, 75.11s/it]\u001b[A\n",
      "100%|██████████| 10/10 [2:55:24<00:00, 1052.49s/it]\n"
     ]
    },
    {
     "name": "stdout",
     "output_type": "stream",
     "text": [
      "Epoch 10, Loss: 0.008824728429317474\n"
     ]
    },
    {
     "data": {
      "image/png": "[encoded data removed]",
      "text/plain": [
       "<Figure size 640x480 with 1 Axes>"
      ]
     },
     "metadata": {},
     "output_type": "display_data"
    }
   ],
   "source": [
    "num_epochs = 10\n",
    "\n",
    "losses = []\n",
    "\n",
    "\n",
    "# Train the Model\n",
    "try:\n",
    "    model_1 = torch.load('Cancer_CNN_1.pt')\n",
    "    img = mpimg.imread('loss_1.png')\n",
    "    imgplot = plt.imshow(img)\n",
    "    plt.show()\n",
    "\n",
    "except:\n",
    "    model_1.train()\n",
    "    for epoch in tqdm(range(num_epochs)):  # Number of epochs\n",
    "        for data, target in tqdm(dataloader):\n",
    "            data = data.to(device)\n",
    "            target = target.to(device)\n",
    "            optimizer.zero_grad()\n",
    "            output = model_1(data)\n",
    "            loss = criterion(output, target.type_as(output)) # Ensuring target is same type as output\n",
    "            loss.backward()\n",
    "            optimizer.step()\n",
    "        losses.append(loss.item())\n",
    "        print(f'Epoch {epoch+1}, Loss: {loss.item()}')\n",
    "    torch.save(model_1, 'Cancer_CNN_1.pt')\n",
    "    \n",
    "    fig = plt.figure()\n",
    "    ax = plt.subplot(111)\n",
    "    ax.plot(losses)\n",
    "    plt.title('Loss')\n",
    "    plt.show()\n",
    "    fig.savefig('loss_1.png')\n"
   ]
  },
  {
   "cell_type": "code",
   "execution_count": null,
   "metadata": {},
   "outputs": [],
   "source": []
  }
 ],
 "metadata": {
  "kernelspec": {
   "display_name": "Python 3 (ipykernel)",
   "language": "python",
   "name": "python3"
  },
  "language_info": {
   "codemirror_mode": {
    "name": "ipython",
    "version": 3
   },
   "file_extension": ".py",
   "mimetype": "text/x-python",
   "name": "python",
   "nbconvert_exporter": "python",
   "pygments_lexer": "ipython3",
   "version": "3.11.5"
  }
 },
 "nbformat": 4,
 "nbformat_minor": 4
}
