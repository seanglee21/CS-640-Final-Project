{
 "cells": [
  {
   "cell_type": "code",
   "execution_count": 1,
   "id": "c0bae3d1-52c1-4a41-9192-ad1e1b554a5f",
   "metadata": {},
   "outputs": [],
   "source": [
    "import pandas as pd\n",
    "import os, sys, pandas, pathlib, time\n",
    "from collections import defaultdict\n",
    "import matplotlib.pyplot as plt\n",
    "import matplotlib.image as mpimg\n",
    "import torch\n",
    "import torch.nn as nn\n",
    "import torch.optim as optim\n",
    "import torchvision\n",
    "from torchvision import datasets, transforms\n",
    "from torchvision.transforms import v2\n",
    "from torchvision.io import read_image\n",
    "from torch.utils.data import Dataset, DataLoader\n",
    "from PIL import Image\n",
    "import cv2\n",
    "import numpy as np\n",
    "from tqdm import tqdm, trange\n",
    "from sklearn.metrics import accuracy_score, f1_score, confusion_matrix\n",
    "import random\n",
    "\n",
    "Image.MAX_IMAGE_PIXELS = None #Throws error if size of images exceeds this number"
   ]
  },
  {
   "cell_type": "code",
   "execution_count": 2,
   "id": "76b34b3e-5e7f-48f3-96a9-eb52eedbc2c9",
   "metadata": {},
   "outputs": [],
   "source": [
    "#Creates dictionary mapping labels(string) to vector(one-hot encoding)\n",
    "all_labels = list(np.load('materials/UBC-OCEAN_CS640/all_labels.npy'))\n",
    "num_classes = len(all_labels)\n",
    "label_dict = defaultdict(lambda: torch.zeros(num_classes))\n",
    "for i, label in enumerate(all_labels):\n",
    "    label_dict[label][i] = 1"
   ]
  },
  {
   "cell_type": "code",
   "execution_count": 3,
   "metadata": {},
   "outputs": [
    {
     "name": "stdout",
     "output_type": "stream",
     "text": [
      "defaultdict(<function <lambda> at 0x000001EB2226B880>, {'HGSC': tensor([1., 0., 0., 0., 0.]), 'EC': tensor([0., 1., 0., 0., 0.]), 'MC': tensor([0., 0., 1., 0., 0.]), 'CC': tensor([0., 0., 0., 1., 0.]), 'LGSC': tensor([0., 0., 0., 0., 1.])})\n"
     ]
    }
   ],
   "source": [
    "print(label_dict)"
   ]
  },
  {
   "cell_type": "code",
   "execution_count": 4,
   "id": "7c65268b",
   "metadata": {},
   "outputs": [],
   "source": [
    "    # change the size only if necessary\n",
    "transform = v2.Compose([v2.Resize(256, antialias = True),\n",
    "                            v2.CenterCrop(224),\n",
    "                            v2.ToImage(),\n",
    "                            v2.ToDtype(torch.float32, scale = True),\n",
    "                            v2.Normalize(mean = [0.4887, 0.4266, 0.4855], std = [0.4212, 0.3790, 0.4169])])"
   ]
  },
  {
   "cell_type": "code",
   "execution_count": 5,
   "id": "bee71db1",
   "metadata": {},
   "outputs": [
    {
     "name": "stdout",
     "output_type": "stream",
     "text": [
      "10077\n"
     ]
    },
    {
     "name": "stdout",
     "output_type": "stream",
     "text": [
      "10143\n",
      "10252\n",
      "10469\n",
      "10548\n",
      "10642\n",
      "1080\n",
      "10896\n",
      "11263\n",
      "11417\n",
      "11431\n",
      "11557\n",
      "11559\n",
      "12222\n",
      "12244\n",
      "12442\n",
      "1252\n",
      "12522\n",
      "1289\n",
      "12902\n",
      "1295\n",
      "13364\n",
      "13387\n",
      "13526\n",
      "13987\n",
      "14039\n",
      "14051\n",
      "14127\n",
      "14312\n",
      "14401\n",
      "14424\n",
      "14532\n",
      "14542\n",
      "14617\n",
      "15139\n",
      "15188\n",
      "15209\n",
      "15221\n",
      "15231\n",
      "15293\n",
      "15470\n",
      "15486\n",
      "15583\n",
      "15671\n",
      "15742\n",
      "16042\n",
      "16064\n",
      "16209\n",
      "16325\n",
      "16494\n",
      "1666\n",
      "16876\n",
      "16986\n",
      "17067\n",
      "17174\n",
      "17291\n",
      "17365\n",
      "17416\n",
      "17487\n",
      "17637\n",
      "17738\n",
      "1774\n",
      "17854\n",
      "18014\n",
      "18138\n",
      "18547\n",
      "18607\n",
      "18810\n",
      "18813\n",
      "18896\n",
      "18981\n",
      "19030\n",
      "19157\n",
      "1925\n",
      "19255\n",
      "1952\n",
      "19569\n",
      "20205\n",
      "20312\n",
      "20329\n",
      "20670\n",
      "20858\n",
      "20882\n",
      "2097\n",
      "21020\n",
      "21232\n",
      "21303\n",
      "21373\n",
      "21432\n",
      "21445\n",
      "21910\n",
      "21929\n",
      "22155\n",
      "22221\n",
      "2227\n",
      "22290\n",
      "22425\n",
      "22489\n",
      "22654\n",
      "22740\n",
      "22924\n",
      "23523\n",
      "23796\n",
      "2391\n",
      "24023\n",
      "24507\n",
      "24563\n",
      "24617\n",
      "24759\n",
      "24991\n",
      "25561\n",
      "25604\n",
      "25792\n",
      "25928\n",
      "26025\n",
      "26124\n",
      "26190\n",
      "26533\n",
      "26603\n",
      "26644\n",
      "2666\n",
      "26862\n",
      "26950\n",
      "2706\n",
      "27245\n",
      "27249\n",
      "27315\n",
      "27747\n",
      "27851\n",
      "27950\n",
      "28028\n",
      "28066\n",
      "281\n",
      "28121\n",
      "28393\n",
      "28519\n",
      "28562\n",
      "28603\n",
      "28736\n",
      "28821\n",
      "28922\n",
      "2906\n",
      "29084\n",
      "29147\n",
      "29200\n",
      "29240\n",
      "29331\n",
      "29615\n",
      "29888\n",
      "29904\n",
      "30203\n",
      "30369\n",
      "30508\n",
      "30515\n",
      "3055\n",
      "30712\n",
      "30738\n",
      "3084\n",
      "30868\n",
      "3092\n",
      "31033\n",
      "31297\n",
      "31333\n",
      "31383\n",
      "31473\n",
      "31594\n",
      "31793\n",
      "32032\n",
      "32035\n",
      "32042\n",
      "32192\n",
      "3222\n",
      "32432\n",
      "32596\n",
      "32636\n",
      "3264\n",
      "33708\n",
      "33839\n",
      "33976\n",
      "33984\n",
      "34247\n",
      "34277\n",
      "34508\n",
      "34649\n",
      "34688\n",
      "34720\n",
      "34845\n",
      "3511\n",
      "35239\n",
      "35565\n",
      "35592\n",
      "35754\n",
      "35792\n",
      "35909\n",
      "36008\n",
      "36063\n",
      "36204\n",
      "36499\n",
      "36513\n",
      "36583\n",
      "36678\n",
      "3672\n",
      "37190\n",
      "37307\n",
      "37367\n",
      "37385\n",
      "37655\n",
      "38018\n",
      "38019\n",
      "38048\n",
      "38097\n",
      "38349\n",
      "38479\n",
      "38535\n",
      "38585\n",
      "38647\n",
      "38669\n",
      "38849\n",
      "38901\n",
      "38959\n",
      "39144\n",
      "39146\n",
      "39172\n",
      "39208\n",
      "39252\n",
      "39269\n",
      "39365\n",
      "39425\n",
      "39466\n",
      "39872\n",
      "39880\n",
      "39893\n",
      "3997\n",
      "39990\n",
      "4\n",
      "40079\n",
      "40124\n",
      "40503\n",
      "40639\n",
      "40864\n",
      "4134\n",
      "41368\n",
      "41586\n",
      "41801\n",
      "42125\n",
      "42260\n",
      "42296\n",
      "42549\n",
      "42857\n",
      "43280\n",
      "43390\n",
      "43432\n",
      "43671\n",
      "43796\n",
      "43815\n",
      "43875\n",
      "43998\n",
      "44232\n",
      "44283\n",
      "44432\n",
      "44530\n",
      "44581\n",
      "44603\n",
      "44700\n",
      "44804\n",
      "44962\n",
      "44976\n",
      "45104\n",
      "45185\n",
      "45578\n",
      "45630\n",
      "45990\n",
      "4608\n",
      "46139\n",
      "46172\n",
      "46435\n",
      "46444\n",
      "46469\n",
      "46543\n",
      "46688\n",
      "46793\n",
      "47035\n",
      "47105\n",
      "47431\n",
      "47837\n",
      "47911\n",
      "47960\n",
      "4827\n",
      "48502\n",
      "48506\n",
      "48550\n",
      "4877\n",
      "48861\n",
      "48973\n",
      "49281\n",
      "49587\n",
      "4963\n",
      "49872\n",
      "49995\n",
      "50048\n",
      "5015\n",
      "50246\n",
      "50304\n",
      "50589\n",
      "50712\n",
      "50962\n",
      "51021\n",
      "51032\n",
      "51128\n",
      "5114\n",
      "51215\n",
      "51346\n",
      "51499\n",
      "51832\n",
      "51893\n",
      "52108\n",
      "52259\n",
      "52275\n",
      "52308\n",
      "52375\n",
      "52420\n",
      "52461\n",
      "5251\n",
      "52612\n",
      "5264\n",
      "5265\n",
      "52752\n",
      "52784\n",
      "52836\n",
      "52846\n",
      "52931\n",
      "53059\n",
      "5307\n",
      "53377\n",
      "53402\n",
      "53859\n",
      "54007\n",
      "54408\n",
      "54473\n",
      "54506\n",
      "5456\n",
      "54590\n",
      "54825\n",
      "54928\n",
      "54949\n",
      "54990\n",
      "55281\n",
      "55287\n",
      "55876\n",
      "56117\n",
      "56221\n",
      "56500\n",
      "56799\n",
      "56843\n",
      "56861\n",
      "56875\n",
      "56947\n",
      "57100\n"
     ]
    }
   ],
   "source": [
    "## TODO: create list of transformed images and update dataset class removing transforms\n",
    "\n",
    "def load_transform_images(folder_path):\n",
    "    images = {}  # Dictionary to store transformed images\n",
    "\n",
    "    for filename in os.listdir(folder_path):\n",
    "        if filename.endswith('.jpg'):  # Check for .jpg files\n",
    "            img_name = os.path.splitext(filename)[0]  # Extract the name (assuming it's a number)\n",
    "            print(img_name)\n",
    "            img_path = os.path.join(folder_path, filename)\n",
    "            with Image.open(img_path) as img:\n",
    "                img = img.convert('RGB')  # Convert image to RGB (if not already)\n",
    "                transformed_img = transform(img)  # Apply the transformation\n",
    "                images[img_name] = transformed_img  # Store in dictionary with name as key\n",
    "\n",
    "    return images\n",
    "\n",
    "# Example usage\n",
    "folder_path = 'materials/UBC-OCEAN_CS640/train_images_compressed_80/'\n",
    "transformed_images = load_transform_images(folder_path)"
   ]
  },
  {
   "cell_type": "code",
   "execution_count": null,
   "id": "b263bd20",
   "metadata": {},
   "outputs": [
    {
     "name": "stdout",
     "output_type": "stream",
     "text": [
      "Number of training images: 344\n",
      "Number of validation images: 86\n",
      "Type of key: <class 'str'>\n",
      "Type of image: <class 'torchvision.tv_tensors._image.Image'>\n",
      "Size of image: torch.Size([3, 224, 224])\n"
     ]
    }
   ],
   "source": [
    "## Create list of training images and validation images using a split\n",
    "def split_dataset(images, train_ratio=0.8):\n",
    "    total_images = len(images)\n",
    "    train_size = int(total_images * train_ratio)\n",
    "\n",
    "    # Randomly shuffle the images\n",
    "    shuffled_items = list(images.items())\n",
    "    random.shuffle(shuffled_items)\n",
    "\n",
    "    # Split the images into training and validation sets\n",
    "    train_images = dict(shuffled_items[:train_size])\n",
    "    validation_images = dict(shuffled_items[train_size:])\n",
    "\n",
    "    return train_images, validation_images\n",
    "\n",
    "train_images, validation_images = split_dataset(transformed_images)\n",
    "\n",
    "\n",
    "print(f'Number of training images: {len(train_images.keys())}')\n",
    "print(f'Number of validation images: {len(validation_images.keys())}')\n",
    "print(f'Type of key: {type(list(train_images.keys())[0])}')\n",
    "print(f'Type of image: {type(list(train_images.values())[0])}')\n",
    "print(f'Size of image: {list(train_images.values())[0].size()}')"
   ]
  },
  {
   "cell_type": "code",
   "execution_count": null,
   "id": "e457cfdd",
   "metadata": {},
   "outputs": [],
   "source": [
    "##TODO: Update dataset to pass in list of images\n",
    "class CustomDataset(Dataset):\n",
    "    def __init__(self, csv_file, images, num_classes):\n",
    "        \"\"\"\n",
    "        Args:\n",
    "            csv_file (string): Path to the csv file with annotations.\n",
    "            root_dir (string): Directory with all the images.\n",
    "            num_classes (int): Total number of classes.\n",
    "            transform (callable, optional): Optional transform to be applied on a sample.\n",
    "        \"\"\"\n",
    "        self.labels_frame = pd.read_csv(csv_file)\n",
    "\n",
    "        self.name_to_id = self.labels_frame['image_id'].to_dict()\n",
    "        self.id_to_name = {int(v):k for k, v in self.name_to_id.items()}\n",
    "        \n",
    "        \n",
    "        self.images = images\n",
    "        self.image_names = list(self.images.keys())  # List of image names\n",
    "        self.num_classes = num_classes\n",
    "\n",
    "    def __len__(self):\n",
    "        return len(list(self.images.keys()))\n",
    "\n",
    "    def __getitem__(self, idx):\n",
    "        image = self.images[self.image_names[idx]]\n",
    "\n",
    "        label = self.labels_frame.iloc[self.id_to_name[int(self.image_names[idx])], 1]\n",
    "        #print(self.labels_frame.iloc[self.id_to_name[int(self.image_names[idx])]])\n",
    "        # Convert label to one-hot encoding\n",
    "        one_hot = label_dict[str(label)]\n",
    "        return image, one_hot"
   ]
  },
  {
   "cell_type": "code",
   "execution_count": null,
   "id": "c758c2c5",
   "metadata": {},
   "outputs": [],
   "source": [
    "## TODO: Add validation set and update method calls\n",
    "batch_size = 64\n",
    "\n",
    "# Create the dataset\n",
    "train_dataset = CustomDataset(csv_file='materials/UBC-OCEAN_CS640/train.csv', images=train_images, num_classes=num_classes)\n",
    "validation_dataset = CustomDataset(csv_file='materials/UBC-OCEAN_CS640/train.csv', images=validation_images, num_classes=num_classes)\n",
    "\n",
    "# Create a DataLoader\n",
    "train_dataloader = DataLoader(train_dataset, batch_size=batch_size, shuffle=True)\n",
    "validation_dataloader = DataLoader(validation_dataset, batch_size=1, shuffle=True)\n",
    "\n",
    "# Now you can use this dataloader in your training loop"
   ]
  },
  {
   "cell_type": "code",
   "execution_count": null,
   "id": "a671518a",
   "metadata": {},
   "outputs": [
    {
     "name": "stdout",
     "output_type": "stream",
     "text": [
      "Numer of training examples: 344\n",
      "Numer of testing examples: 86\n",
      "Type of pairing: <class 'tuple'>\n",
      "Number of inputs + outputs: 2\n",
      "Size of input: torch.Size([3, 224, 224])\n",
      "First input(normalized): Image([[[ 0.9439,  0.9346,  0.9346,  ..., -1.1603, -1.1603, -1.1603],\n",
      "        [ 0.9439,  0.9253,  0.9160,  ..., -1.1603, -1.1603, -1.1603],\n",
      "        [ 0.9160,  0.9160,  0.8787,  ..., -1.1603, -1.1603, -1.1603],\n",
      "        ...,\n",
      "        [ 0.9532,  0.9439,  0.9439,  ..., -1.1603, -1.1603, -1.1603],\n",
      "        [ 0.9532,  0.9532,  0.9625,  ..., -1.1603, -1.1603, -1.1603],\n",
      "        [ 0.9532,  0.9439,  0.9532,  ..., -1.1603, -1.1603, -1.1603]],\n",
      "\n",
      "       [[ 1.0887,  1.0783,  1.0473,  ..., -1.1256, -1.1256, -1.1256],\n",
      "        [ 1.0783,  1.0370,  1.0163,  ..., -1.1256, -1.1256, -1.1256],\n",
      "        [ 1.0059,  0.9852,  0.9128,  ..., -1.1256, -1.1256, -1.1256],\n",
      "        ...,\n",
      "        [ 1.0990,  1.0887,  1.0887,  ..., -1.1256, -1.1256, -1.1256],\n",
      "        [ 1.0990,  1.1094,  1.1301,  ..., -1.1256, -1.1256, -1.1256],\n",
      "        [ 1.1094,  1.0783,  1.1094,  ..., -1.1256, -1.1256, -1.1256]],\n",
      "\n",
      "       [[ 0.9707,  0.9707,  0.9801,  ..., -1.1645, -1.1645, -1.1645],\n",
      "        [ 0.9801,  0.9801,  0.9707,  ..., -1.1645, -1.1645, -1.1645],\n",
      "        [ 0.9801,  0.9613,  0.8673,  ..., -1.1645, -1.1645, -1.1645],\n",
      "        ...,\n",
      "        [ 0.9801,  0.9801,  0.9801,  ..., -1.1645, -1.1645, -1.1645],\n",
      "        [ 0.9895,  0.9801,  0.9801,  ..., -1.1645, -1.1645, -1.1645],\n",
      "        [ 0.9801,  0.9801,  0.9801,  ..., -1.1645, -1.1645, -1.1645]]], )\n",
      "First output(one-hot encoding): tensor([0., 0., 0., 0., 1.])\n"
     ]
    }
   ],
   "source": [
    "#Size of the reshaped first image in the data set\n",
    "#(RGB * width * height)\n",
    "print(f'Numer of training examples: {train_dataset.__len__()}')\n",
    "print(f'Numer of testing examples: {validation_dataset.__len__()}')\n",
    "print(f'Type of pairing: {type(train_dataset.__getitem__(0))}')\n",
    "print(f'Number of inputs + outputs: {len(validation_dataset.__getitem__(0))}')\n",
    "print(f'Size of input: {train_dataset.__getitem__(0)[0].size()}')\n",
    "print(f'First input(normalized): {train_dataset.__getitem__(0)[0]}')\n",
    "print(f'First output(one-hot encoding): {train_dataset.__getitem__(0)[1]}')"
   ]
  },
  {
   "cell_type": "code",
   "execution_count": null,
   "id": "8a5d4fbe",
   "metadata": {},
   "outputs": [
    {
     "name": "stdout",
     "output_type": "stream",
     "text": [
      "GPU is available\n"
     ]
    }
   ],
   "source": [
    "# torch.cuda.is_available() checks and returns a Boolean True if a GPU is available, else it'll return False\n",
    "is_cuda = torch.cuda.is_available()\n",
    "\n",
    "# If we have a GPU available, we'll set our device to GPU. We'll use this device variable later in our code.\n",
    "if is_cuda:\n",
    "    device = torch.device(\"cuda\")\n",
    "    print(\"GPU is available\")\n",
    "else:\n",
    "    device = torch.device(\"cpu\")\n",
    "    print(\"GPU not available, CPU used\")"
   ]
  },
  {
   "cell_type": "code",
   "execution_count": null,
   "id": "fb86bf9c",
   "metadata": {},
   "outputs": [],
   "source": [
    "class CancerCNN(nn.Module):\n",
    "    def __init__(self):\n",
    "        super(CancerCNN, self).__init__()\n",
    "        self.conv1 = nn.Conv2d(3, 32, kernel_size=3, stride=1, padding=1)\n",
    "        self.conv2 = nn.Conv2d(32, 64, kernel_size=3, stride=1, padding=1)\n",
    "        self.conv3 = nn.Conv2d(64, 128, kernel_size=3, stride=1, padding=1)\n",
    "        # Adjust the size of the fully connected layer\n",
    "        self.fc1 = nn.Linear(128 * 28 * 28, 512)\n",
    "        self.fc2 = nn.Linear(512, 5) # Adjust according to the number of classes\n",
    "        self.pool = nn.MaxPool2d(2, 2)\n",
    "        self.relu = nn.ReLU()\n",
    "        \n",
    "\n",
    "    def forward(self, x):\n",
    "        x = self.pool(self.relu(self.conv1(x)))\n",
    "        x = self.pool(self.relu(self.conv2(x)))\n",
    "        x = self.pool(self.relu(self.conv3(x)))\n",
    "        x = x.view(-1, 128 * 28 * 28) # Adjust this flattening based on the output size\n",
    "        x = self.relu(self.fc1(x))\n",
    "        x = self.fc2(x)\n",
    "        return x"
   ]
  },
  {
   "cell_type": "code",
   "execution_count": null,
   "id": "20fb7f8a",
   "metadata": {},
   "outputs": [
    {
     "name": "stdout",
     "output_type": "stream",
     "text": [
      "CancerCNN(\n",
      "  (conv1): Conv2d(3, 32, kernel_size=(3, 3), stride=(1, 1), padding=(1, 1))\n",
      "  (conv2): Conv2d(32, 64, kernel_size=(3, 3), stride=(1, 1), padding=(1, 1))\n",
      "  (conv3): Conv2d(64, 128, kernel_size=(3, 3), stride=(1, 1), padding=(1, 1))\n",
      "  (fc1): Linear(in_features=100352, out_features=512, bias=True)\n",
      "  (fc2): Linear(in_features=512, out_features=5, bias=True)\n",
      "  (pool): MaxPool2d(kernel_size=2, stride=2, padding=0, dilation=1, ceil_mode=False)\n",
      "  (relu): ReLU()\n",
      ")\n"
     ]
    }
   ],
   "source": [
    "# Step 4: Initialize the CNN Model\n",
    "model_validation = CancerCNN().float()\n",
    "print(model_validation)\n",
    "\n",
    "model_validation = model_validation.to(device)\n",
    "\n",
    "# Step 5: Define Loss Function and Optimizer\n",
    "criterion = nn.CrossEntropyLoss()\n",
    "optimizer = optim.Adam(model_validation.parameters(), lr=0.000001)"
   ]
  },
  {
   "cell_type": "code",
   "execution_count": null,
   "id": "361c2ae9",
   "metadata": {},
   "outputs": [
    {
     "name": "stderr",
     "output_type": "stream",
     "text": [
      "100%|██████████| 100/100 [01:19<00:00,  1.26it/s]\n"
     ]
    },
    {
     "data": {
      "image/png": "[encoded data removed]",
      "text/plain": [
       "<Figure size 640x480 with 1 Axes>"
      ]
     },
     "metadata": {},
     "output_type": "display_data"
    }
   ],
   "source": [
    "num_epochs = 100\n",
    "\n",
    "losses = []\n",
    "\n",
    "\n",
    "try:\n",
    "    model_validation = torch.load('Cancer_CNN_validation.pt')\n",
    "    img = mpimg.imread('loss_validation.png')\n",
    "    imgplot = plt.imshow(img)\n",
    "    plt.show()\n",
    "\n",
    "except:\n",
    "\n",
    "    model_validation.train()\n",
    "    for epoch in tqdm(range(num_epochs)):  # Number of epochs\n",
    "        for data, target in train_dataloader:\n",
    "            data = data.to(device)\n",
    "            target = target.to(device)\n",
    "            optimizer.zero_grad()\n",
    "            output = model_validation(data)\n",
    "            #print(f'output: {output}')\n",
    "            #print(f'target: {target.type_as(output)}\\n')\n",
    "            loss = criterion(output, target.type_as(output)) # Ensuring target is same type as output\n",
    "            loss.backward()\n",
    "            optimizer.step()\n",
    "        losses.append(loss.item())\n",
    "        #print(f'Epoch {epoch+1}, Loss: {loss.item()}')\n",
    "    torch.save(model_validation, 'Cancer_CNN_validation.pt')\n",
    "        \n",
    "    fig = plt.figure()\n",
    "    ax = plt.subplot(111)\n",
    "    ax.plot(losses)\n",
    "    plt.title('Loss')\n",
    "    plt.show()\n",
    "    fig.savefig('loss_validation.png')"
   ]
  },
  {
   "cell_type": "code",
   "execution_count": null,
   "metadata": {},
   "outputs": [
    {
     "name": "stderr",
     "output_type": "stream",
     "text": [
      "100%|██████████| 86/86 [00:00<00:00, 248.46it/s]"
     ]
    },
    {
     "name": "stdout",
     "output_type": "stream",
     "text": [
      "Confusion matrix: [[24  9  1  0  1]\n",
      " [13  6  0  0  0]\n",
      " [ 5  2  1  1  1]\n",
      " [ 8  2  2  1  1]\n",
      " [ 6  2  0  0  0]]\n",
      "Accuracy: 0.37209302325581395\n",
      "F1: 0.21906593406593408\n"
     ]
    },
    {
     "name": "stderr",
     "output_type": "stream",
     "text": [
      "\n"
     ]
    }
   ],
   "source": [
    "YPredict = []\n",
    "YTrue = []\n",
    "\n",
    "for data, target in tqdm(validation_dataloader):\n",
    "    data = data.to(device)  \n",
    "    output = model_validation(data)\n",
    "    pred = int(torch.argmax(output))\n",
    "    label = int(torch.argmax(target))\n",
    "    YPredict.append(pred)\n",
    "    YTrue.append(label)\n",
    "    \n",
    "print(\"Confusion matrix: \" + str(confusion_matrix(YTrue, YPredict)))\n",
    "print(\"Accuracy: \" + str(accuracy_score(YTrue, YPredict)))\n",
    "print(\"F1: \" + str(f1_score(YTrue, YPredict, average = \"macro\")))\n"
   ]
  },
  {
   "cell_type": "code",
   "execution_count": null,
   "id": "df0b6694",
   "metadata": {},
   "outputs": [],
   "source": [
    "class CancerCNN_2(nn.Module):\n",
    "    def __init__(self):\n",
    "        super(CancerCNN_2, self).__init__()\n",
    "        self.conv1 = nn.Conv2d(3, 64, kernel_size=3, stride=1, padding=1)\n",
    "        self.conv2 = nn.Conv2d(64, 128, kernel_size=3, stride=1, padding=1)\n",
    "        self.conv3 = nn.Conv2d(128, 256, kernel_size=3, stride=1, padding=1)\n",
    "        self.conv4 = nn.Conv2d(256, 512, kernel_size=3, stride=1, padding=1)\n",
    "\n",
    "        self.fc1 = nn.Linear(512 * 14 * 14, 1024)\n",
    "        self.fc2 = nn.Linear(1024, 5)\n",
    "        \n",
    "        self.pool = nn.MaxPool2d(kernel_size=2, stride=2, padding=0)\n",
    "        self.relu = nn.ReLU()\n",
    "\n",
    "    def forward(self, x):\n",
    "        x = self.pool(self.relu(self.conv1(x)))\n",
    "        x = self.pool(self.relu(self.conv2(x)))\n",
    "        x = self.pool(self.relu(self.conv3(x)))\n",
    "        x = self.pool(self.relu(self.conv4(x)))\n",
    "        x = x.view(-1, 512 * 14 * 14)\n",
    "        x = self.relu(self.fc1(x))\n",
    "        x = self.fc2(x)\n",
    "        return x\n",
    "    "
   ]
  },
  {
   "cell_type": "code",
   "execution_count": null,
   "id": "d1b6f90f",
   "metadata": {},
   "outputs": [
    {
     "name": "stdout",
     "output_type": "stream",
     "text": [
      "CancerCNN_2(\n",
      "  (conv1): Conv2d(3, 64, kernel_size=(3, 3), stride=(1, 1), padding=(1, 1))\n",
      "  (conv2): Conv2d(64, 128, kernel_size=(3, 3), stride=(1, 1), padding=(1, 1))\n",
      "  (conv3): Conv2d(128, 256, kernel_size=(3, 3), stride=(1, 1), padding=(1, 1))\n",
      "  (conv4): Conv2d(256, 512, kernel_size=(3, 3), stride=(1, 1), padding=(1, 1))\n",
      "  (fc1): Linear(in_features=100352, out_features=1024, bias=True)\n",
      "  (fc2): Linear(in_features=1024, out_features=5, bias=True)\n",
      "  (pool): MaxPool2d(kernel_size=2, stride=2, padding=0, dilation=1, ceil_mode=False)\n",
      "  (relu): ReLU()\n",
      ")\n"
     ]
    }
   ],
   "source": [
    "# Step 4: Initialize the CNN Model\n",
    "model_validation_2 = CancerCNN_2().float()\n",
    "print(model_validation_2)\n",
    "\n",
    "model_validation_2 = model_validation_2.to(device)\n",
    "\n",
    "# Step 5: Define Loss Function and Optimizer\n",
    "criterion = nn.CrossEntropyLoss()\n",
    "optimizer = optim.Adam(model_validation_2.parameters(), lr=0.000001)"
   ]
  },
  {
   "cell_type": "code",
   "execution_count": null,
   "id": "4a4c0cca",
   "metadata": {},
   "outputs": [
    {
     "name": "stderr",
     "output_type": "stream",
     "text": [
      "  4%|▍         | 4/100 [00:49<19:40, 12.29s/it]\n"
     ]
    },
    {
     "ename": "KeyboardInterrupt",
     "evalue": "",
     "output_type": "error",
     "traceback": [
      "\u001b[1;31m---------------------------------------------------------------------------\u001b[0m",
      "\u001b[1;31mFileNotFoundError\u001b[0m                         Traceback (most recent call last)",
      "\u001b[1;32mc:\\Users\\TaiSh\\Source\\CS_640-Artificial_Intelligence\\Final_Project\\Final_Project_Validation.ipynb Cell 17\u001b[0m line \u001b[0;36m6\n\u001b[0;32m      <a href='vscode-notebook-cell:/c%3A/Users/TaiSh/Source/CS_640-Artificial_Intelligence/Final_Project/Final_Project_Validation.ipynb#X20sZmlsZQ%3D%3D?line=4'>5</a>\u001b[0m \u001b[39mtry\u001b[39;00m:\n\u001b[1;32m----> <a href='vscode-notebook-cell:/c%3A/Users/TaiSh/Source/CS_640-Artificial_Intelligence/Final_Project/Final_Project_Validation.ipynb#X20sZmlsZQ%3D%3D?line=5'>6</a>\u001b[0m     model_validation_2 \u001b[39m=\u001b[39m torch\u001b[39m.\u001b[39;49mload(\u001b[39m'\u001b[39;49m\u001b[39mCancer_CNN_validation_2.pt\u001b[39;49m\u001b[39m'\u001b[39;49m)\n\u001b[0;32m      <a href='vscode-notebook-cell:/c%3A/Users/TaiSh/Source/CS_640-Artificial_Intelligence/Final_Project/Final_Project_Validation.ipynb#X20sZmlsZQ%3D%3D?line=6'>7</a>\u001b[0m     img \u001b[39m=\u001b[39m mpimg\u001b[39m.\u001b[39mimread(\u001b[39m'\u001b[39m\u001b[39mloss_validation_2.png\u001b[39m\u001b[39m'\u001b[39m)\n",
      "File \u001b[1;32mc:\\Users\\TaiSh\\.conda\\envs\\conda311\\Lib\\site-packages\\torch\\serialization.py:986\u001b[0m, in \u001b[0;36mload\u001b[1;34m(f, map_location, pickle_module, weights_only, mmap, **pickle_load_args)\u001b[0m\n\u001b[0;32m    984\u001b[0m     pickle_load_args[\u001b[39m'\u001b[39m\u001b[39mencoding\u001b[39m\u001b[39m'\u001b[39m] \u001b[39m=\u001b[39m \u001b[39m'\u001b[39m\u001b[39mutf-8\u001b[39m\u001b[39m'\u001b[39m\n\u001b[1;32m--> 986\u001b[0m \u001b[39mwith\u001b[39;00m _open_file_like(f, \u001b[39m'\u001b[39;49m\u001b[39mrb\u001b[39;49m\u001b[39m'\u001b[39;49m) \u001b[39mas\u001b[39;00m opened_file:\n\u001b[0;32m    987\u001b[0m     \u001b[39mif\u001b[39;00m _is_zipfile(opened_file):\n\u001b[0;32m    988\u001b[0m         \u001b[39m# The zipfile reader is going to advance the current file position.\u001b[39;00m\n\u001b[0;32m    989\u001b[0m         \u001b[39m# If we want to actually tail call to torch.jit.load, we need to\u001b[39;00m\n\u001b[0;32m    990\u001b[0m         \u001b[39m# reset back to the original position.\u001b[39;00m\n",
      "File \u001b[1;32mc:\\Users\\TaiSh\\.conda\\envs\\conda311\\Lib\\site-packages\\torch\\serialization.py:435\u001b[0m, in \u001b[0;36m_open_file_like\u001b[1;34m(name_or_buffer, mode)\u001b[0m\n\u001b[0;32m    434\u001b[0m \u001b[39mif\u001b[39;00m _is_path(name_or_buffer):\n\u001b[1;32m--> 435\u001b[0m     \u001b[39mreturn\u001b[39;00m _open_file(name_or_buffer, mode)\n\u001b[0;32m    436\u001b[0m \u001b[39melse\u001b[39;00m:\n",
      "File \u001b[1;32mc:\\Users\\TaiSh\\.conda\\envs\\conda311\\Lib\\site-packages\\torch\\serialization.py:416\u001b[0m, in \u001b[0;36m_open_file.__init__\u001b[1;34m(self, name, mode)\u001b[0m\n\u001b[0;32m    415\u001b[0m \u001b[39mdef\u001b[39;00m \u001b[39m__init__\u001b[39m(\u001b[39mself\u001b[39m, name, mode):\n\u001b[1;32m--> 416\u001b[0m     \u001b[39msuper\u001b[39m()\u001b[39m.\u001b[39m\u001b[39m__init__\u001b[39m(\u001b[39mopen\u001b[39m(name, mode))\n",
      "\u001b[1;31mFileNotFoundError\u001b[0m: [Errno 2] No such file or directory: 'Cancer_CNN_validation_2.pt'",
      "\nDuring handling of the above exception, another exception occurred:\n",
      "\u001b[1;31mKeyboardInterrupt\u001b[0m                         Traceback (most recent call last)",
      "\u001b[1;32mc:\\Users\\TaiSh\\Source\\CS_640-Artificial_Intelligence\\Final_Project\\Final_Project_Validation.ipynb Cell 17\u001b[0m line \u001b[0;36m1\n\u001b[0;32m     <a href='vscode-notebook-cell:/c%3A/Users/TaiSh/Source/CS_640-Artificial_Intelligence/Final_Project/Final_Project_Validation.ipynb#X20sZmlsZQ%3D%3D?line=12'>13</a>\u001b[0m \u001b[39mfor\u001b[39;00m epoch \u001b[39min\u001b[39;00m tqdm(\u001b[39mrange\u001b[39m(num_epochs)):  \u001b[39m# Number of epochs\u001b[39;00m\n\u001b[0;32m     <a href='vscode-notebook-cell:/c%3A/Users/TaiSh/Source/CS_640-Artificial_Intelligence/Final_Project/Final_Project_Validation.ipynb#X20sZmlsZQ%3D%3D?line=13'>14</a>\u001b[0m     \u001b[39mfor\u001b[39;00m data, target \u001b[39min\u001b[39;00m train_dataloader:\n\u001b[1;32m---> <a href='vscode-notebook-cell:/c%3A/Users/TaiSh/Source/CS_640-Artificial_Intelligence/Final_Project/Final_Project_Validation.ipynb#X20sZmlsZQ%3D%3D?line=14'>15</a>\u001b[0m         data \u001b[39m=\u001b[39m data\u001b[39m.\u001b[39;49mto(device)\n\u001b[0;32m     <a href='vscode-notebook-cell:/c%3A/Users/TaiSh/Source/CS_640-Artificial_Intelligence/Final_Project/Final_Project_Validation.ipynb#X20sZmlsZQ%3D%3D?line=15'>16</a>\u001b[0m         target \u001b[39m=\u001b[39m target\u001b[39m.\u001b[39mto(device)\n\u001b[0;32m     <a href='vscode-notebook-cell:/c%3A/Users/TaiSh/Source/CS_640-Artificial_Intelligence/Final_Project/Final_Project_Validation.ipynb#X20sZmlsZQ%3D%3D?line=16'>17</a>\u001b[0m         optimizer\u001b[39m.\u001b[39mzero_grad()\n",
      "\u001b[1;31mKeyboardInterrupt\u001b[0m: "
     ]
    }
   ],
   "source": [
    "num_epochs = 100\n",
    "\n",
    "losses = []\n",
    "\n",
    "try:\n",
    "    model_validation_2 = torch.load('Cancer_CNN_validation_2.pt')\n",
    "    img = mpimg.imread('loss_validation_2.png')\n",
    "    imgplot = plt.imshow(img)\n",
    "    plt.show()\n",
    "    \n",
    "except:\n",
    "    model_validation_2.train()\n",
    "    for epoch in tqdm(range(num_epochs)):  # Number of epochs\n",
    "        for data, target in train_dataloader:\n",
    "            data = data.to(device)\n",
    "            target = target.to(device)\n",
    "            optimizer.zero_grad()\n",
    "            output = model_validation_2(data)\n",
    "            #print(f'output: {output}')\n",
    "            #print(f'target: {target.type_as(output)}\\n')\n",
    "            loss = criterion(output, target.type_as(output)) # Ensuring target is same type as output\n",
    "            loss.backward()\n",
    "            optimizer.step()\n",
    "        losses.append(loss.item())\n",
    "        #print(f'Epoch {epoch+1}, Loss: {loss.item()}')\n",
    "    torch.save(model_validation_2, 'Cancer_CNN_validation_2.pt')\n",
    "        \n",
    "    fig = plt.figure()\n",
    "    ax = plt.subplot(111)\n",
    "    ax.plot(losses)\n",
    "    plt.title('Loss')\n",
    "    plt.show()\n",
    "    fig.savefig('loss_validation_2.png')"
   ]
  },
  {
   "cell_type": "code",
   "execution_count": null,
   "metadata": {},
   "outputs": [
    {
     "name": "stderr",
     "output_type": "stream",
     "text": [
      "100%|██████████| 86/86 [00:00<00:00, 198.29it/s]"
     ]
    },
    {
     "name": "stdout",
     "output_type": "stream",
     "text": [
      "Confusion matrix: [[16  5  1  5  2]\n",
      " [12  8  2  4  0]\n",
      " [ 2  4  0  2  0]\n",
      " [ 9  3  1  4  0]\n",
      " [ 4  1  0  0  1]]\n",
      "Accuracy: 0.3372093023255814\n",
      "F1: 0.25141843971631206\n"
     ]
    },
    {
     "name": "stderr",
     "output_type": "stream",
     "text": [
      "\n"
     ]
    }
   ],
   "source": [
    "YPredict = []\n",
    "YTrue = []\n",
    "\n",
    "for data, target in tqdm(validation_dataloader):\n",
    "    data = data.to(device)  \n",
    "    output = model_validation_2(data)\n",
    "    pred = int(torch.argmax(output))\n",
    "    label = int(torch.argmax(target))\n",
    "    YPredict.append(pred)\n",
    "    YTrue.append(label)\n",
    "    \n",
    "print(\"Confusion matrix: \" + str(confusion_matrix(YTrue, YPredict)))\n",
    "print(\"Accuracy: \" + str(accuracy_score(YTrue, YPredict)))\n",
    "print(\"F1: \" + str(f1_score(YTrue, YPredict, average = \"macro\")))"
   ]
  },
  {
   "cell_type": "code",
   "execution_count": null,
   "id": "3bb43741",
   "metadata": {},
   "outputs": [],
   "source": [
    "class CancerCNN_3(nn.Module):\n",
    "    def __init__(self):\n",
    "        super(CancerCNN_3, self).__init__()\n",
    "        self.conv1 = nn.Conv2d(3, 64, kernel_size=3, stride=1, padding=1)\n",
    "        self.conv2 = nn.Conv2d(64, 128, kernel_size=3, stride=1, padding=1)\n",
    "        self.conv3 = nn.Conv2d(128, 256, kernel_size=3, stride=1, padding=1)\n",
    "        self.conv4 = nn.Conv2d(256, 512, kernel_size=3, stride=1, padding=1)\n",
    "        self.conv5 = nn.Conv2d(512, 1024, kernel_size=3, stride=1, padding=1)  # New convolutional layer\n",
    "\n",
    "        self.fc1 = nn.Linear(1024 * 7 * 7, 2048)  # Adjusted for new layer sizes\n",
    "        self.fc2 = nn.Linear(2048, 512)           # New linear layer\n",
    "        self.fc3 = nn.Linear(512, 5)              # Adjusted final layer\n",
    "        \n",
    "        self.pool = nn.MaxPool2d(kernel_size=2, stride=2, padding=0)\n",
    "        self.relu = nn.ReLU()\n",
    "\n",
    "    def forward(self, x):\n",
    "        x = self.pool(self.relu(self.conv1(x)))\n",
    "        x = self.pool(self.relu(self.conv2(x)))\n",
    "        x = self.pool(self.relu(self.conv3(x)))\n",
    "        x = self.pool(self.relu(self.conv4(x)))\n",
    "        x = self.pool(self.relu(self.conv5(x)))  # Forward pass through the new layer\n",
    "        x = x.view(-1, 1024 * 7 * 7)          # Adjust flatten step\n",
    "        x = self.relu(self.fc1(x))\n",
    "        x = self.relu(self.fc2(x))\n",
    "        x = self.fc3(x)\n",
    "        return x"
   ]
  },
  {
   "cell_type": "code",
   "execution_count": null,
   "metadata": {},
   "outputs": [
    {
     "name": "stdout",
     "output_type": "stream",
     "text": [
      "CancerCNN_3(\n",
      "  (conv1): Conv2d(3, 64, kernel_size=(3, 3), stride=(1, 1), padding=(1, 1))\n",
      "  (conv2): Conv2d(64, 128, kernel_size=(3, 3), stride=(1, 1), padding=(1, 1))\n",
      "  (conv3): Conv2d(128, 256, kernel_size=(3, 3), stride=(1, 1), padding=(1, 1))\n",
      "  (conv4): Conv2d(256, 512, kernel_size=(3, 3), stride=(1, 1), padding=(1, 1))\n",
      "  (conv5): Conv2d(512, 1024, kernel_size=(3, 3), stride=(1, 1), padding=(1, 1))\n",
      "  (fc1): Linear(in_features=50176, out_features=2048, bias=True)\n",
      "  (fc2): Linear(in_features=2048, out_features=512, bias=True)\n",
      "  (fc3): Linear(in_features=512, out_features=5, bias=True)\n",
      "  (pool): MaxPool2d(kernel_size=2, stride=2, padding=0, dilation=1, ceil_mode=False)\n",
      "  (relu): ReLU()\n",
      ")\n"
     ]
    }
   ],
   "source": [
    "# Step 4: Initialize the CNN Model\n",
    "model_validation_3 = CancerCNN_3().float()\n",
    "print(model_validation_3)\n",
    "\n",
    "model_validation_3 = model_validation_3.to(device)\n",
    "\n",
    "# Step 5: Define Loss Function and Optimizer\n",
    "criterion = nn.CrossEntropyLoss()\n",
    "optimizer = optim.Adam(model_validation_3.parameters(), lr=0.000001)"
   ]
  },
  {
   "cell_type": "code",
   "execution_count": null,
   "metadata": {},
   "outputs": [
    {
     "name": "stderr",
     "output_type": "stream",
     "text": [
      "100%|██████████| 6/6 [00:02<00:00,  2.80it/s]\n",
      "  0%|          | 1/5000 [00:02<3:11:59,  2.30s/it]"
     ]
    },
    {
     "name": "stdout",
     "output_type": "stream",
     "text": [
      "Epoch 1, Loss: 1.4728567600250244\n"
     ]
    },
    {
     "name": "stderr",
     "output_type": "stream",
     "text": [
      "100%|██████████| 6/6 [00:02<00:00,  2.81it/s]\n",
      "  0%|          | 2/5000 [00:04<3:11:25,  2.30s/it]"
     ]
    },
    {
     "name": "stdout",
     "output_type": "stream",
     "text": [
      "Epoch 2, Loss: 1.5079879760742188\n"
     ]
    },
    {
     "name": "stderr",
     "output_type": "stream",
     "text": [
      "100%|██████████| 6/6 [00:01<00:00,  3.17it/s]\n",
      "  0%|          | 3/5000 [00:06<3:03:15,  2.20s/it]"
     ]
    },
    {
     "name": "stdout",
     "output_type": "stream",
     "text": [
      "Epoch 3, Loss: 1.5309159755706787\n"
     ]
    },
    {
     "name": "stderr",
     "output_type": "stream",
     "text": [
      "100%|██████████| 6/6 [00:02<00:00,  2.79it/s]\n",
      "  0%|          | 4/5000 [00:09<3:08:31,  2.26s/it]"
     ]
    },
    {
     "name": "stdout",
     "output_type": "stream",
     "text": [
      "Epoch 4, Loss: 1.5671930313110352\n"
     ]
    },
    {
     "name": "stderr",
     "output_type": "stream",
     "text": [
      "100%|██████████| 6/6 [00:02<00:00,  2.76it/s]\n",
      "  0%|          | 5/5000 [00:11<3:11:22,  2.30s/it]"
     ]
    },
    {
     "name": "stdout",
     "output_type": "stream",
     "text": [
      "Epoch 5, Loss: 1.468489408493042\n"
     ]
    },
    {
     "name": "stderr",
     "output_type": "stream",
     "text": [
      "100%|██████████| 6/6 [00:02<00:00,  2.82it/s]\n",
      "  0%|          | 6/5000 [00:13<3:11:15,  2.30s/it]"
     ]
    },
    {
     "name": "stdout",
     "output_type": "stream",
     "text": [
      "Epoch 6, Loss: 1.418827772140503\n"
     ]
    },
    {
     "name": "stderr",
     "output_type": "stream",
     "text": [
      "100%|██████████| 6/6 [00:02<00:00,  2.84it/s]\n",
      "  0%|          | 7/5000 [00:16<3:11:47,  2.30s/it]"
     ]
    },
    {
     "name": "stdout",
     "output_type": "stream",
     "text": [
      "Epoch 7, Loss: 1.3968137502670288\n"
     ]
    },
    {
     "name": "stderr",
     "output_type": "stream",
     "text": [
      "100%|██████████| 6/6 [00:02<00:00,  2.67it/s]\n",
      "  0%|          | 8/5000 [00:18<3:15:41,  2.35s/it]"
     ]
    },
    {
     "name": "stdout",
     "output_type": "stream",
     "text": [
      "Epoch 8, Loss: 1.5922635793685913\n"
     ]
    },
    {
     "name": "stderr",
     "output_type": "stream",
     "text": [
      "100%|██████████| 6/6 [00:02<00:00,  2.67it/s]\n",
      "  0%|          | 9/5000 [00:20<3:18:04,  2.38s/it]"
     ]
    },
    {
     "name": "stdout",
     "output_type": "stream",
     "text": [
      "Epoch 9, Loss: 1.4208438396453857\n"
     ]
    },
    {
     "name": "stderr",
     "output_type": "stream",
     "text": [
      "100%|██████████| 6/6 [00:02<00:00,  2.68it/s]\n",
      "  0%|          | 10/5000 [00:23<3:19:11,  2.40s/it]"
     ]
    },
    {
     "name": "stdout",
     "output_type": "stream",
     "text": [
      "Epoch 10, Loss: 1.6165204048156738\n"
     ]
    },
    {
     "name": "stderr",
     "output_type": "stream",
     "text": [
      "100%|██████████| 6/6 [00:02<00:00,  2.68it/s]\n",
      "  0%|          | 11/5000 [00:25<3:20:38,  2.41s/it]"
     ]
    },
    {
     "name": "stdout",
     "output_type": "stream",
     "text": [
      "Epoch 11, Loss: 1.424961805343628\n"
     ]
    },
    {
     "name": "stderr",
     "output_type": "stream",
     "text": [
      "100%|██████████| 6/6 [00:02<00:00,  2.64it/s]\n",
      "  0%|          | 12/5000 [00:28<3:21:55,  2.43s/it]"
     ]
    },
    {
     "name": "stdout",
     "output_type": "stream",
     "text": [
      "Epoch 12, Loss: 1.329629898071289\n"
     ]
    },
    {
     "name": "stderr",
     "output_type": "stream",
     "text": [
      "100%|██████████| 6/6 [00:02<00:00,  2.65it/s]\n",
      "  0%|          | 13/5000 [00:30<3:22:59,  2.44s/it]"
     ]
    },
    {
     "name": "stdout",
     "output_type": "stream",
     "text": [
      "Epoch 13, Loss: 1.509308099746704\n"
     ]
    },
    {
     "name": "stderr",
     "output_type": "stream",
     "text": [
      "100%|██████████| 6/6 [00:02<00:00,  2.69it/s]\n",
      "  0%|          | 14/5000 [00:33<3:25:43,  2.48s/it]"
     ]
    },
    {
     "name": "stdout",
     "output_type": "stream",
     "text": [
      "Epoch 14, Loss: 1.3403127193450928\n"
     ]
    },
    {
     "name": "stderr",
     "output_type": "stream",
     "text": [
      "100%|██████████| 6/6 [00:02<00:00,  2.39it/s]\n",
      "  0%|          | 15/5000 [00:36<3:31:50,  2.55s/it]"
     ]
    },
    {
     "name": "stdout",
     "output_type": "stream",
     "text": [
      "Epoch 15, Loss: 1.5304396152496338\n"
     ]
    },
    {
     "name": "stderr",
     "output_type": "stream",
     "text": [
      "100%|██████████| 6/6 [00:02<00:00,  2.62it/s]\n",
      "  0%|          | 16/5000 [00:38<3:30:41,  2.54s/it]"
     ]
    },
    {
     "name": "stdout",
     "output_type": "stream",
     "text": [
      "Epoch 16, Loss: 1.4841607809066772\n"
     ]
    },
    {
     "name": "stderr",
     "output_type": "stream",
     "text": [
      "100%|██████████| 6/6 [00:02<00:00,  2.65it/s]\n",
      "  0%|          | 17/5000 [00:40<3:29:12,  2.52s/it]"
     ]
    },
    {
     "name": "stdout",
     "output_type": "stream",
     "text": [
      "Epoch 17, Loss: 1.4617092609405518\n"
     ]
    },
    {
     "name": "stderr",
     "output_type": "stream",
     "text": [
      "100%|██████████| 6/6 [00:02<00:00,  2.20it/s]\n",
      "  0%|          | 18/5000 [00:44<3:41:56,  2.67s/it]"
     ]
    },
    {
     "name": "stdout",
     "output_type": "stream",
     "text": [
      "Epoch 18, Loss: 1.3694181442260742\n"
     ]
    },
    {
     "name": "stderr",
     "output_type": "stream",
     "text": [
      "100%|██████████| 6/6 [00:02<00:00,  2.32it/s]\n",
      "  0%|          | 19/5000 [00:46<3:45:31,  2.72s/it]"
     ]
    },
    {
     "name": "stdout",
     "output_type": "stream",
     "text": [
      "Epoch 19, Loss: 1.4969596862792969\n"
     ]
    },
    {
     "name": "stderr",
     "output_type": "stream",
     "text": [
      "100%|██████████| 6/6 [00:02<00:00,  2.41it/s]\n",
      "  0%|          | 20/5000 [00:49<3:45:31,  2.72s/it]"
     ]
    },
    {
     "name": "stdout",
     "output_type": "stream",
     "text": [
      "Epoch 20, Loss: 1.5774821043014526\n"
     ]
    },
    {
     "name": "stderr",
     "output_type": "stream",
     "text": [
      "100%|██████████| 6/6 [00:02<00:00,  2.35it/s]\n",
      "  0%|          | 21/5000 [00:52<3:46:37,  2.73s/it]"
     ]
    },
    {
     "name": "stdout",
     "output_type": "stream",
     "text": [
      "Epoch 21, Loss: 1.4987200498580933\n"
     ]
    },
    {
     "name": "stderr",
     "output_type": "stream",
     "text": [
      "100%|██████████| 6/6 [00:02<00:00,  2.51it/s]\n",
      "  0%|          | 22/5000 [00:54<3:43:41,  2.70s/it]"
     ]
    },
    {
     "name": "stdout",
     "output_type": "stream",
     "text": [
      "Epoch 22, Loss: 1.272642970085144\n"
     ]
    },
    {
     "name": "stderr",
     "output_type": "stream",
     "text": [
      "100%|██████████| 6/6 [00:02<00:00,  2.58it/s]\n",
      "  0%|          | 23/5000 [00:57<3:40:00,  2.65s/it]"
     ]
    },
    {
     "name": "stdout",
     "output_type": "stream",
     "text": [
      "Epoch 23, Loss: 1.422799825668335\n"
     ]
    },
    {
     "name": "stderr",
     "output_type": "stream",
     "text": [
      "100%|██████████| 6/6 [00:02<00:00,  2.64it/s]\n",
      "  0%|          | 24/5000 [00:59<3:35:42,  2.60s/it]"
     ]
    },
    {
     "name": "stdout",
     "output_type": "stream",
     "text": [
      "Epoch 24, Loss: 1.4805091619491577\n"
     ]
    },
    {
     "name": "stderr",
     "output_type": "stream",
     "text": [
      "100%|██████████| 6/6 [00:02<00:00,  2.64it/s]\n",
      "  0%|          | 25/5000 [01:02<3:32:31,  2.56s/it]"
     ]
    },
    {
     "name": "stdout",
     "output_type": "stream",
     "text": [
      "Epoch 25, Loss: 1.4847934246063232\n"
     ]
    },
    {
     "name": "stderr",
     "output_type": "stream",
     "text": [
      "100%|██████████| 6/6 [00:02<00:00,  2.54it/s]\n",
      "  1%|          | 26/5000 [01:05<3:32:46,  2.57s/it]"
     ]
    },
    {
     "name": "stdout",
     "output_type": "stream",
     "text": [
      "Epoch 26, Loss: 1.4090251922607422\n"
     ]
    },
    {
     "name": "stderr",
     "output_type": "stream",
     "text": [
      "100%|██████████| 6/6 [00:02<00:00,  2.70it/s]\n",
      "  1%|          | 27/5000 [01:07<3:29:43,  2.53s/it]"
     ]
    },
    {
     "name": "stdout",
     "output_type": "stream",
     "text": [
      "Epoch 27, Loss: 1.3690826892852783\n"
     ]
    },
    {
     "name": "stderr",
     "output_type": "stream",
     "text": [
      "100%|██████████| 6/6 [00:02<00:00,  2.66it/s]\n",
      "  1%|          | 28/5000 [01:09<3:28:06,  2.51s/it]"
     ]
    },
    {
     "name": "stdout",
     "output_type": "stream",
     "text": [
      "Epoch 28, Loss: 1.4782794713974\n"
     ]
    },
    {
     "name": "stderr",
     "output_type": "stream",
     "text": [
      "100%|██████████| 6/6 [00:02<00:00,  2.57it/s]\n",
      "  1%|          | 29/5000 [01:12<3:28:49,  2.52s/it]"
     ]
    },
    {
     "name": "stdout",
     "output_type": "stream",
     "text": [
      "Epoch 29, Loss: 1.5621951818466187\n"
     ]
    },
    {
     "name": "stderr",
     "output_type": "stream",
     "text": [
      "100%|██████████| 6/6 [00:02<00:00,  2.60it/s]\n",
      "  1%|          | 30/5000 [01:14<3:28:39,  2.52s/it]"
     ]
    },
    {
     "name": "stdout",
     "output_type": "stream",
     "text": [
      "Epoch 30, Loss: 1.5140812397003174\n"
     ]
    },
    {
     "name": "stderr",
     "output_type": "stream",
     "text": [
      "100%|██████████| 6/6 [00:02<00:00,  2.54it/s]\n",
      "  1%|          | 31/5000 [01:17<3:30:00,  2.54s/it]"
     ]
    },
    {
     "name": "stdout",
     "output_type": "stream",
     "text": [
      "Epoch 31, Loss: 1.361342430114746\n"
     ]
    },
    {
     "name": "stderr",
     "output_type": "stream",
     "text": [
      "100%|██████████| 6/6 [00:02<00:00,  2.53it/s]\n",
      "  1%|          | 32/5000 [01:20<3:31:13,  2.55s/it]"
     ]
    },
    {
     "name": "stdout",
     "output_type": "stream",
     "text": [
      "Epoch 32, Loss: 1.4695886373519897\n"
     ]
    },
    {
     "name": "stderr",
     "output_type": "stream",
     "text": [
      "100%|██████████| 6/6 [00:02<00:00,  2.58it/s]\n",
      "  1%|          | 33/5000 [01:22<3:30:48,  2.55s/it]"
     ]
    },
    {
     "name": "stdout",
     "output_type": "stream",
     "text": [
      "Epoch 33, Loss: 1.4562476873397827\n"
     ]
    },
    {
     "name": "stderr",
     "output_type": "stream",
     "text": [
      "100%|██████████| 6/6 [00:02<00:00,  2.52it/s]\n",
      "  1%|          | 34/5000 [01:25<3:32:04,  2.56s/it]"
     ]
    },
    {
     "name": "stdout",
     "output_type": "stream",
     "text": [
      "Epoch 34, Loss: 1.5070271492004395\n"
     ]
    },
    {
     "name": "stderr",
     "output_type": "stream",
     "text": [
      "100%|██████████| 6/6 [00:02<00:00,  2.59it/s]\n",
      "  1%|          | 35/5000 [01:27<3:30:42,  2.55s/it]"
     ]
    },
    {
     "name": "stdout",
     "output_type": "stream",
     "text": [
      "Epoch 35, Loss: 1.1572242975234985\n"
     ]
    },
    {
     "name": "stderr",
     "output_type": "stream",
     "text": [
      "100%|██████████| 6/6 [00:02<00:00,  2.62it/s]\n",
      "  1%|          | 36/5000 [01:30<3:29:41,  2.53s/it]"
     ]
    },
    {
     "name": "stdout",
     "output_type": "stream",
     "text": [
      "Epoch 36, Loss: 1.3912487030029297\n"
     ]
    },
    {
     "name": "stderr",
     "output_type": "stream",
     "text": [
      "100%|██████████| 6/6 [00:02<00:00,  2.66it/s]\n",
      "  1%|          | 37/5000 [01:32<3:27:24,  2.51s/it]"
     ]
    },
    {
     "name": "stdout",
     "output_type": "stream",
     "text": [
      "Epoch 37, Loss: 1.497622013092041\n"
     ]
    },
    {
     "name": "stderr",
     "output_type": "stream",
     "text": [
      "100%|██████████| 6/6 [00:02<00:00,  2.59it/s]\n",
      "  1%|          | 38/5000 [01:35<3:27:52,  2.51s/it]"
     ]
    },
    {
     "name": "stdout",
     "output_type": "stream",
     "text": [
      "Epoch 38, Loss: 1.6075475215911865\n"
     ]
    },
    {
     "name": "stderr",
     "output_type": "stream",
     "text": [
      "100%|██████████| 6/6 [00:02<00:00,  2.63it/s]\n",
      "  1%|          | 39/5000 [01:37<3:27:17,  2.51s/it]"
     ]
    },
    {
     "name": "stdout",
     "output_type": "stream",
     "text": [
      "Epoch 39, Loss: 1.3727061748504639\n"
     ]
    },
    {
     "name": "stderr",
     "output_type": "stream",
     "text": [
      "100%|██████████| 6/6 [00:02<00:00,  2.63it/s]\n",
      "  1%|          | 40/5000 [01:40<3:26:48,  2.50s/it]"
     ]
    },
    {
     "name": "stdout",
     "output_type": "stream",
     "text": [
      "Epoch 40, Loss: 1.4267723560333252\n"
     ]
    },
    {
     "name": "stderr",
     "output_type": "stream",
     "text": [
      "100%|██████████| 6/6 [00:02<00:00,  2.62it/s]\n",
      "  1%|          | 41/5000 [01:42<3:26:37,  2.50s/it]"
     ]
    },
    {
     "name": "stdout",
     "output_type": "stream",
     "text": [
      "Epoch 41, Loss: 1.612127661705017\n"
     ]
    },
    {
     "name": "stderr",
     "output_type": "stream",
     "text": [
      " 83%|████████▎ | 5/6 [00:02<00:00,  2.16it/s]\n",
      "  1%|          | 41/5000 [01:45<3:31:48,  2.56s/it]\n"
     ]
    },
    {
     "ename": "KeyboardInterrupt",
     "evalue": "",
     "output_type": "error",
     "traceback": [
      "\u001b[1;31m---------------------------------------------------------------------------\u001b[0m",
      "\u001b[1;31mFileNotFoundError\u001b[0m                         Traceback (most recent call last)",
      "\u001b[1;32mc:\\Users\\TaiSh\\Source\\CS_640-Artificial_Intelligence\\Final_Project\\Final_Project_Validation.ipynb Cell 20\u001b[0m line \u001b[0;36m7\n\u001b[0;32m      <a href='vscode-notebook-cell:/c%3A/Users/TaiSh/Source/CS_640-Artificial_Intelligence/Final_Project/Final_Project_Validation.ipynb#X23sZmlsZQ%3D%3D?line=5'>6</a>\u001b[0m \u001b[39mtry\u001b[39;00m:\n\u001b[1;32m----> <a href='vscode-notebook-cell:/c%3A/Users/TaiSh/Source/CS_640-Artificial_Intelligence/Final_Project/Final_Project_Validation.ipynb#X23sZmlsZQ%3D%3D?line=6'>7</a>\u001b[0m     model_validation_3 \u001b[39m=\u001b[39m torch\u001b[39m.\u001b[39;49mload(\u001b[39m'\u001b[39;49m\u001b[39mCancer_CNN_validation_3.pt\u001b[39;49m\u001b[39m'\u001b[39;49m)\n\u001b[0;32m      <a href='vscode-notebook-cell:/c%3A/Users/TaiSh/Source/CS_640-Artificial_Intelligence/Final_Project/Final_Project_Validation.ipynb#X23sZmlsZQ%3D%3D?line=7'>8</a>\u001b[0m     img \u001b[39m=\u001b[39m mpimg\u001b[39m.\u001b[39mimread(\u001b[39m'\u001b[39m\u001b[39mloss_validation_3.png\u001b[39m\u001b[39m'\u001b[39m)\n",
      "File \u001b[1;32mc:\\Users\\TaiSh\\.conda\\envs\\conda311\\Lib\\site-packages\\torch\\serialization.py:986\u001b[0m, in \u001b[0;36mload\u001b[1;34m(f, map_location, pickle_module, weights_only, mmap, **pickle_load_args)\u001b[0m\n\u001b[0;32m    984\u001b[0m     pickle_load_args[\u001b[39m'\u001b[39m\u001b[39mencoding\u001b[39m\u001b[39m'\u001b[39m] \u001b[39m=\u001b[39m \u001b[39m'\u001b[39m\u001b[39mutf-8\u001b[39m\u001b[39m'\u001b[39m\n\u001b[1;32m--> 986\u001b[0m \u001b[39mwith\u001b[39;00m _open_file_like(f, \u001b[39m'\u001b[39;49m\u001b[39mrb\u001b[39;49m\u001b[39m'\u001b[39;49m) \u001b[39mas\u001b[39;00m opened_file:\n\u001b[0;32m    987\u001b[0m     \u001b[39mif\u001b[39;00m _is_zipfile(opened_file):\n\u001b[0;32m    988\u001b[0m         \u001b[39m# The zipfile reader is going to advance the current file position.\u001b[39;00m\n\u001b[0;32m    989\u001b[0m         \u001b[39m# If we want to actually tail call to torch.jit.load, we need to\u001b[39;00m\n\u001b[0;32m    990\u001b[0m         \u001b[39m# reset back to the original position.\u001b[39;00m\n",
      "File \u001b[1;32mc:\\Users\\TaiSh\\.conda\\envs\\conda311\\Lib\\site-packages\\torch\\serialization.py:435\u001b[0m, in \u001b[0;36m_open_file_like\u001b[1;34m(name_or_buffer, mode)\u001b[0m\n\u001b[0;32m    434\u001b[0m \u001b[39mif\u001b[39;00m _is_path(name_or_buffer):\n\u001b[1;32m--> 435\u001b[0m     \u001b[39mreturn\u001b[39;00m _open_file(name_or_buffer, mode)\n\u001b[0;32m    436\u001b[0m \u001b[39melse\u001b[39;00m:\n",
      "File \u001b[1;32mc:\\Users\\TaiSh\\.conda\\envs\\conda311\\Lib\\site-packages\\torch\\serialization.py:416\u001b[0m, in \u001b[0;36m_open_file.__init__\u001b[1;34m(self, name, mode)\u001b[0m\n\u001b[0;32m    415\u001b[0m \u001b[39mdef\u001b[39;00m \u001b[39m__init__\u001b[39m(\u001b[39mself\u001b[39m, name, mode):\n\u001b[1;32m--> 416\u001b[0m     \u001b[39msuper\u001b[39m()\u001b[39m.\u001b[39m\u001b[39m__init__\u001b[39m(\u001b[39mopen\u001b[39;49m(name, mode))\n",
      "\u001b[1;31mFileNotFoundError\u001b[0m: [Errno 2] No such file or directory: 'Cancer_CNN_validation_3.pt'",
      "\nDuring handling of the above exception, another exception occurred:\n",
      "\u001b[1;31mKeyboardInterrupt\u001b[0m                         Traceback (most recent call last)",
      "\u001b[1;32mc:\\Users\\TaiSh\\Source\\CS_640-Artificial_Intelligence\\Final_Project\\Final_Project_Validation.ipynb Cell 20\u001b[0m line \u001b[0;36m1\n\u001b[0;32m     <a href='vscode-notebook-cell:/c%3A/Users/TaiSh/Source/CS_640-Artificial_Intelligence/Final_Project/Final_Project_Validation.ipynb#X23sZmlsZQ%3D%3D?line=13'>14</a>\u001b[0m \u001b[39mfor\u001b[39;00m epoch \u001b[39min\u001b[39;00m tqdm(\u001b[39mrange\u001b[39m(num_epochs)):  \u001b[39m# Number of epochs\u001b[39;00m\n\u001b[0;32m     <a href='vscode-notebook-cell:/c%3A/Users/TaiSh/Source/CS_640-Artificial_Intelligence/Final_Project/Final_Project_Validation.ipynb#X23sZmlsZQ%3D%3D?line=14'>15</a>\u001b[0m     \u001b[39mfor\u001b[39;00m data, target \u001b[39min\u001b[39;00m tqdm(train_dataloader):\n\u001b[1;32m---> <a href='vscode-notebook-cell:/c%3A/Users/TaiSh/Source/CS_640-Artificial_Intelligence/Final_Project/Final_Project_Validation.ipynb#X23sZmlsZQ%3D%3D?line=15'>16</a>\u001b[0m         data \u001b[39m=\u001b[39m data\u001b[39m.\u001b[39;49mto(device)\n\u001b[0;32m     <a href='vscode-notebook-cell:/c%3A/Users/TaiSh/Source/CS_640-Artificial_Intelligence/Final_Project/Final_Project_Validation.ipynb#X23sZmlsZQ%3D%3D?line=16'>17</a>\u001b[0m         target \u001b[39m=\u001b[39m target\u001b[39m.\u001b[39mto(device)\n\u001b[0;32m     <a href='vscode-notebook-cell:/c%3A/Users/TaiSh/Source/CS_640-Artificial_Intelligence/Final_Project/Final_Project_Validation.ipynb#X23sZmlsZQ%3D%3D?line=17'>18</a>\u001b[0m         optimizer\u001b[39m.\u001b[39mzero_grad()\n",
      "\u001b[1;31mKeyboardInterrupt\u001b[0m: "
     ]
    }
   ],
   "source": [
    "num_epochs = 100\n",
    "\n",
    "losses = []\n",
    "\n",
    "\n",
    "try:\n",
    "    model_validation_3 = torch.load('Cancer_CNN_validation_3.pt')\n",
    "    img = mpimg.imread('loss_validation_3.png')\n",
    "    imgplot = plt.imshow(img)\n",
    "    plt.show()\n",
    "    \n",
    "except:\n",
    "    model_validation_3.train()\n",
    "    for epoch in tqdm(range(num_epochs)):  # Number of epochs\n",
    "        for data, target in train_dataloader:\n",
    "            data = data.to(device)\n",
    "            target = target.to(device)\n",
    "            optimizer.zero_grad()\n",
    "            output = model_validation_3(data)\n",
    "            #print(f'output: {output}')\n",
    "            #print(f'target: {target.type_as(output)}\\n')\n",
    "            loss = criterion(output, target.type_as(output)) # Ensuring target is same type as output\n",
    "            loss.backward()\n",
    "            optimizer.step()\n",
    "        losses.append(loss.item())\n",
    "        #print(f'Epoch {epoch+1}, Loss: {loss.item()}')\n",
    "    torch.save(model_validation_3, 'Cancer_CNN_validation_3.pt')\n",
    "\n",
    "    fig = plt.figure()\n",
    "    ax = plt.subplot(111)\n",
    "    ax.plot(losses)\n",
    "    plt.title('Loss')\n",
    "    plt.show()\n",
    "    fig.savefig('loss_validation_3.png')"
   ]
  },
  {
   "cell_type": "code",
   "execution_count": null,
   "metadata": {},
   "outputs": [],
   "source": [
    "YPredict = []\n",
    "YTrue = []\n",
    "\n",
    "for data, target in tqdm(validation_dataloader):\n",
    "    data = data.to(device)  \n",
    "    output = model_validation_3(data)\n",
    "    pred = int(torch.argmax(output))\n",
    "    label = int(torch.argmax(target))\n",
    "    YPredict.append(pred)\n",
    "    YTrue.append(label)\n",
    "    \n",
    "print(\"Confusion matrix: \" + str(confusion_matrix(YTrue, YPredict)))\n",
    "print(\"Accuracy: \" + str(accuracy_score(YTrue, YPredict)))\n",
    "print(\"F1: \" + str(f1_score(YTrue, YPredict, average = \"macro\")))"
   ]
  }
 ],
 "metadata": {
  "kernelspec": {
   "display_name": "Python 3 (ipykernel)",
   "language": "python",
   "name": "python3"
  },
  "language_info": {
   "codemirror_mode": {
    "name": "ipython",
    "version": 3
   },
   "file_extension": ".py",
   "mimetype": "text/x-python",
   "name": "python",
   "nbconvert_exporter": "python",
   "pygments_lexer": "ipython3",
   "version": "3.11.5"
  }
 },
 "nbformat": 4,
 "nbformat_minor": 5
}
